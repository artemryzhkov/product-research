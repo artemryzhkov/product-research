{
 "cells": [
  {
   "cell_type": "markdown",
   "metadata": {},
   "source": [
    "**Цель:** исследовать дроп в продуктовой воронке между переходом в категории и добавлением в корзину.\n",
    "\n"
   ]
  },
  {
   "cell_type": "markdown",
   "metadata": {},
   "source": [
    "**Summary:** исследовали дроп в продуктовой воронке между переходом в категории и добавлением в корзину путем сравнения двух групп пользователей (с конверсией и без). Значимой разницы в пользовательском пути в двух группах не наблюдается. При этом из анализа событий заметили, что пользователи с конверсией в два раза чаще пользуются поиском, а также каждый пятый пользователь с конверсией активировал промокод (тогда как пользователи без конверсии только в 4% случае активировали промокод). Также заметили, что пользователи с конверсией просматривают в два раза больше карточек товаров за первую сессию, чем пользователи без конверсии, что может говорить об изначально бОльшей мотивации пользователей с конверсией сделать покупку. Либо же пользователей без конверсии не устроил ассортимент или цены (что было заметно за счет сравнения медианы цены топ-50 просматриваемых продуктов в первую сессию каждой группой: разница незначительная, но в группе пользователей без конверсии все же медиана цены больше на 20%). Какая-либо значимая разница между пользовательскими параметрами (гео, модель телефона, платформа, версия приложения) отсутствует. Разницы в распределении по зоне доставки между двумя группами также нет.\n",
    "\n",
    "*Можно сделать следующий вывод:* пользователи с конверсией - это более мотивированные к покупке пользователи; у каждого пятого из них есть промокод, который они активировали; такие пользователи чаще пользуются поиском; пользователи с конверсией в первое посещение просматривают продукты в среднем с меньшей ценой, чем пользователи без конверсии. Заметной же разницы в поведении и графе пути между двумя группами не наблюдается."
   ]
  },
  {
   "cell_type": "code",
   "execution_count": 63,
   "metadata": {},
   "outputs": [],
   "source": [
    "import retentioneering\n",
    "import pandas as pd\n",
    "import numpy as np\n",
    "\n",
    "from google.cloud import bigquery"
   ]
  },
  {
   "cell_type": "code",
   "execution_count": 64,
   "metadata": {},
   "outputs": [],
   "source": [
    "client = bigquery.Client.from_service_account_json('wuplo-client-2b0c6b6c829f.json')"
   ]
  },
  {
   "cell_type": "code",
   "execution_count": 212,
   "metadata": {},
   "outputs": [],
   "source": [
    "sql = '''\n",
    "    with step_2 as (\n",
    "        SELECT distinct\n",
    "            user_pseudo_id as user_pseudo_id_2,\n",
    "            'address_input_screen' as event\n",
    "        FROM `wuplo-client.analytics_272238589.events_*`, UNNEST(event_params) AS params\n",
    "        where event_name in (\"wup_address_input_screen\")\n",
    "        and (_TABLE_SUFFIX BETWEEN '20210901' and '20210927')\n",
    "        and platform in ('ANDROID', 'IOS')\n",
    "        and user_pseudo_id in \n",
    "        (\n",
    "            SELECT distinct\n",
    "                user_pseudo_id\n",
    "            FROM `wuplo-client.analytics_272238589.events_*`, UNNEST(event_params) AS params\n",
    "            where event_name = \"wup_first_open_event\"\n",
    "            and (_TABLE_SUFFIX BETWEEN '20210901' and '20210927')\n",
    "            and platform in ('ANDROID', 'IOS')\n",
    "        )\n",
    "    ),\n",
    "\n",
    "    step_3 as (\n",
    "        SELECT distinct\n",
    "            user_pseudo_id as user_pseudo_id_3,\n",
    "            'input_address' as event\n",
    "        FROM `wuplo-client.analytics_272238589.events_*`, UNNEST(event_params) AS params\n",
    "        where event_name in (\"wup_input_address\")\n",
    "        and (_TABLE_SUFFIX BETWEEN '20210901' and '20210927')\n",
    "        and platform in ('ANDROID', 'IOS')\n",
    "        and params.key = \"id_delivery_zone\" and params.value.int_value in (15, 30, 60)\n",
    "    ),\n",
    "\n",
    "    step_5 as (\n",
    "        SELECT distinct\n",
    "            user_pseudo_id as user_pseudo_id_5,\n",
    "            'wup_view_item_screen' as event\n",
    "        FROM `wuplo-client.analytics_272238589.events_*`, UNNEST(event_params) AS params\n",
    "        where event_name = \"wup_view_item_screen\"\n",
    "        and (_TABLE_SUFFIX BETWEEN '20210901' and '20210927')\n",
    "        and platform in ('ANDROID', 'IOS')\n",
    "    ),\n",
    "\n",
    "    step_6 as (\n",
    "        SELECT distinct\n",
    "            user_pseudo_id as user_pseudo_id_6,\n",
    "            'add_to_cart_event' as event\n",
    "        FROM `wuplo-client.analytics_272238589.events_*`, UNNEST(event_params) AS params\n",
    "        where event_name = \"add_to_cart_event\"\n",
    "        and (_TABLE_SUFFIX BETWEEN '20210901' and '20210927')\n",
    "        and platform in ('ANDROID', 'IOS')\n",
    "    )\n",
    "\n",
    "    select\n",
    "        step_5.user_pseudo_id_5 as user_id,\n",
    "        step_5.event as wup_view_item_screen, \n",
    "        step_6.event as add_to_cart_event\n",
    "    from step_2\n",
    "    left join step_3 on step_3.user_pseudo_id_3 = step_2.user_pseudo_id_2\n",
    "    left join step_5 on step_5.user_pseudo_id_5 = step_3.user_pseudo_id_3\n",
    "    left join step_6 on step_5.user_pseudo_id_5 = step_6.user_pseudo_id_6\n",
    "    where step_5.event is not null\n",
    "    ;\n",
    "'''\n",
    "\n",
    "project_id = 'wuplo-client'\n",
    "\n",
    "df = client.query(sql, project=project_id).to_dataframe()"
   ]
  },
  {
   "cell_type": "code",
   "execution_count": 213,
   "metadata": {},
   "outputs": [
    {
     "data": {
      "text/html": [
       "<div>\n",
       "<style scoped>\n",
       "    .dataframe tbody tr th:only-of-type {\n",
       "        vertical-align: middle;\n",
       "    }\n",
       "\n",
       "    .dataframe tbody tr th {\n",
       "        vertical-align: top;\n",
       "    }\n",
       "\n",
       "    .dataframe thead th {\n",
       "        text-align: right;\n",
       "    }\n",
       "</style>\n",
       "<table border=\"1\" class=\"dataframe\">\n",
       "  <thead>\n",
       "    <tr style=\"text-align: right;\">\n",
       "      <th></th>\n",
       "      <th>user_id</th>\n",
       "      <th>wup_view_item_screen</th>\n",
       "      <th>add_to_cart_event</th>\n",
       "    </tr>\n",
       "  </thead>\n",
       "  <tbody>\n",
       "    <tr>\n",
       "      <th>0</th>\n",
       "      <td>DA03C982BD074EA59E8F7F5112A719DD</td>\n",
       "      <td>wup_view_item_screen</td>\n",
       "      <td>add_to_cart_event</td>\n",
       "    </tr>\n",
       "    <tr>\n",
       "      <th>1</th>\n",
       "      <td>59CC405C1A0E462387B907E9E226918A</td>\n",
       "      <td>wup_view_item_screen</td>\n",
       "      <td>None</td>\n",
       "    </tr>\n",
       "    <tr>\n",
       "      <th>2</th>\n",
       "      <td>80EB4FC234AC44259655B6B43903AC3C</td>\n",
       "      <td>wup_view_item_screen</td>\n",
       "      <td>None</td>\n",
       "    </tr>\n",
       "    <tr>\n",
       "      <th>3</th>\n",
       "      <td>CD55FA67E95A4D97931CB470D941A59E</td>\n",
       "      <td>wup_view_item_screen</td>\n",
       "      <td>add_to_cart_event</td>\n",
       "    </tr>\n",
       "    <tr>\n",
       "      <th>4</th>\n",
       "      <td>1AAF3939C5284C6D8CF713E758927B5C</td>\n",
       "      <td>wup_view_item_screen</td>\n",
       "      <td>add_to_cart_event</td>\n",
       "    </tr>\n",
       "  </tbody>\n",
       "</table>\n",
       "</div>"
      ],
      "text/plain": [
       "                            user_id  wup_view_item_screen  add_to_cart_event\n",
       "0  DA03C982BD074EA59E8F7F5112A719DD  wup_view_item_screen  add_to_cart_event\n",
       "1  59CC405C1A0E462387B907E9E226918A  wup_view_item_screen               None\n",
       "2  80EB4FC234AC44259655B6B43903AC3C  wup_view_item_screen               None\n",
       "3  CD55FA67E95A4D97931CB470D941A59E  wup_view_item_screen  add_to_cart_event\n",
       "4  1AAF3939C5284C6D8CF713E758927B5C  wup_view_item_screen  add_to_cart_event"
      ]
     },
     "execution_count": 213,
     "metadata": {},
     "output_type": "execute_result"
    }
   ],
   "source": [
    "df.head()"
   ]
  },
  {
   "cell_type": "code",
   "execution_count": 67,
   "metadata": {},
   "outputs": [],
   "source": [
    "sql = '''\n",
    "    select\n",
    "        user_pseudo_id,\n",
    "        event_name,\n",
    "        device.mobile_model_name,\n",
    "        device.operating_system,\n",
    "        platform,\n",
    "        device.language,\n",
    "        geo.country,\n",
    "        app_info.version,\n",
    "        min(timestamp_micros(event_timestamp)) as ts\n",
    "    FROM `wuplo-client.analytics_272238589.events_*`\n",
    "    where (_TABLE_SUFFIX BETWEEN '20210901' and '20210927')\n",
    "    and platform in ('ANDROID', 'IOS')\n",
    "    and event_name not in (\"screen_view\", \"user_engagement\", \"os_update\", \"begin_checkout\",\n",
    "    \"news_closeNewsScreen_event\", \"add_to_cart\", \"news_screen\", \"address_input_screen\", \"first_open\",\n",
    "    \"input_address\", \"view_item_screen\")\n",
    "    group by user_pseudo_id, event_name, device.mobile_model_name,\n",
    "        device.operating_system,\n",
    "        platform,\n",
    "        device.language,\n",
    "        geo.country,\n",
    "        app_info.version\n",
    "'''\n",
    "\n",
    "project_id = 'wuplo-client'\n",
    "\n",
    "df_events = client.query(sql, project=project_id).to_dataframe()"
   ]
  },
  {
   "cell_type": "code",
   "execution_count": null,
   "metadata": {},
   "outputs": [],
   "source": [
    "#     select\n",
    "#         user_pseudo_id,\n",
    "#         params.value.int_value as session_number,\n",
    "#         count(distinct event_timestamp) as events\n",
    "#     FROM `wuplo-client.analytics_272238589.events_*`, UNNEST(event_params) AS params\n",
    "#     where (_TABLE_SUFFIX BETWEEN '20210901' and '20210927')\n",
    "#     and platform in ('ANDROID', 'IOS')\n",
    "#     and event_name in (\"wup_view_item_screen\")\n",
    "#     and params.key = \"ga_session_number\"\n",
    "#     and params.value.int_value = 1\n",
    "#     group by user_pseudo_id, params.value.int_value"
   ]
  },
  {
   "cell_type": "code",
   "execution_count": 358,
   "metadata": {},
   "outputs": [],
   "source": [
    "sql = '''\n",
    "    select\n",
    "        user_pseudo_id,\n",
    "        avg(events) as avg_events\n",
    "    from\n",
    "    (\n",
    "        select\n",
    "            user_pseudo_id,\n",
    "            params.value.int_value as session_number,\n",
    "            count(distinct event_timestamp) as events\n",
    "        FROM `wuplo-client.analytics_272238589.events_*`, UNNEST(event_params) AS params\n",
    "        where (_TABLE_SUFFIX BETWEEN '20210901' and '20210927')\n",
    "        and platform in ('ANDROID', 'IOS')\n",
    "        and event_name in (\"wup_view_item_screen\")\n",
    "        and params.key = \"ga_session_number\"\n",
    "        group by user_pseudo_id, params.value.int_value\n",
    "    )\n",
    "    group by user_pseudo_id\n",
    "'''\n",
    "\n",
    "project_id = 'wuplo-client'\n",
    "\n",
    "freq_view_items = client.query(sql, project=project_id).to_dataframe()"
   ]
  },
  {
   "cell_type": "code",
   "execution_count": 359,
   "metadata": {},
   "outputs": [
    {
     "data": {
      "text/html": [
       "<div>\n",
       "<style scoped>\n",
       "    .dataframe tbody tr th:only-of-type {\n",
       "        vertical-align: middle;\n",
       "    }\n",
       "\n",
       "    .dataframe tbody tr th {\n",
       "        vertical-align: top;\n",
       "    }\n",
       "\n",
       "    .dataframe thead th {\n",
       "        text-align: right;\n",
       "    }\n",
       "</style>\n",
       "<table border=\"1\" class=\"dataframe\">\n",
       "  <thead>\n",
       "    <tr style=\"text-align: right;\">\n",
       "      <th></th>\n",
       "      <th>user_pseudo_id</th>\n",
       "      <th>avg_events</th>\n",
       "    </tr>\n",
       "  </thead>\n",
       "  <tbody>\n",
       "    <tr>\n",
       "      <th>876</th>\n",
       "      <td>ccad3d0a21477e66792bf1fd2b3b5b69</td>\n",
       "      <td>3146.0</td>\n",
       "    </tr>\n",
       "    <tr>\n",
       "      <th>1974</th>\n",
       "      <td>a28df0764210ed477769b75c5cb0fb89</td>\n",
       "      <td>2008.0</td>\n",
       "    </tr>\n",
       "    <tr>\n",
       "      <th>2236</th>\n",
       "      <td>A7EA8192917344FFB6C1DC67832F5CC6</td>\n",
       "      <td>1959.0</td>\n",
       "    </tr>\n",
       "    <tr>\n",
       "      <th>2203</th>\n",
       "      <td>722a74d3a2035579203c14bcf12d4385</td>\n",
       "      <td>1933.0</td>\n",
       "    </tr>\n",
       "    <tr>\n",
       "      <th>1247</th>\n",
       "      <td>b26af54551261719108e89291c164239</td>\n",
       "      <td>1904.0</td>\n",
       "    </tr>\n",
       "    <tr>\n",
       "      <th>...</th>\n",
       "      <td>...</td>\n",
       "      <td>...</td>\n",
       "    </tr>\n",
       "    <tr>\n",
       "      <th>2541</th>\n",
       "      <td>FB1D7ED1478C41BBAC132B5477C453B7</td>\n",
       "      <td>1.0</td>\n",
       "    </tr>\n",
       "    <tr>\n",
       "      <th>2542</th>\n",
       "      <td>e4f00b46dc7f7d4b75c61a479d080f41</td>\n",
       "      <td>1.0</td>\n",
       "    </tr>\n",
       "    <tr>\n",
       "      <th>2543</th>\n",
       "      <td>a0435b1afa9d7faa0a6bef7d498a45e2</td>\n",
       "      <td>1.0</td>\n",
       "    </tr>\n",
       "    <tr>\n",
       "      <th>2544</th>\n",
       "      <td>c7c42216fefeef98baacaf4833b672fe</td>\n",
       "      <td>1.0</td>\n",
       "    </tr>\n",
       "    <tr>\n",
       "      <th>794</th>\n",
       "      <td>8742177D2193429A9C785C0B7F3B46A5</td>\n",
       "      <td>1.0</td>\n",
       "    </tr>\n",
       "  </tbody>\n",
       "</table>\n",
       "<p>2547 rows × 2 columns</p>\n",
       "</div>"
      ],
      "text/plain": [
       "                        user_pseudo_id  avg_events\n",
       "876   ccad3d0a21477e66792bf1fd2b3b5b69      3146.0\n",
       "1974  a28df0764210ed477769b75c5cb0fb89      2008.0\n",
       "2236  A7EA8192917344FFB6C1DC67832F5CC6      1959.0\n",
       "2203  722a74d3a2035579203c14bcf12d4385      1933.0\n",
       "1247  b26af54551261719108e89291c164239      1904.0\n",
       "...                                ...         ...\n",
       "2541  FB1D7ED1478C41BBAC132B5477C453B7         1.0\n",
       "2542  e4f00b46dc7f7d4b75c61a479d080f41         1.0\n",
       "2543  a0435b1afa9d7faa0a6bef7d498a45e2         1.0\n",
       "2544  c7c42216fefeef98baacaf4833b672fe         1.0\n",
       "794   8742177D2193429A9C785C0B7F3B46A5         1.0\n",
       "\n",
       "[2547 rows x 2 columns]"
      ]
     },
     "execution_count": 359,
     "metadata": {},
     "output_type": "execute_result"
    }
   ],
   "source": [
    "freq_view_items.sort_values(by=[\"avg_events\"], ascending=False)"
   ]
  },
  {
   "cell_type": "code",
   "execution_count": 370,
   "metadata": {},
   "outputs": [],
   "source": [
    "sql = '''\n",
    "    SELECT\n",
    "        user_pseudo_id,\n",
    "        count(distinct params.value.string_value) as count_sessions\n",
    "    FROM `wuplo-client.analytics_272238589.events_*`, UNNEST(event_params) AS params\n",
    "    where (_TABLE_SUFFIX BETWEEN '20210901' and '20210927')\n",
    "    and platform in ('ANDROID', 'IOS')\n",
    "    and event_name = \"categories_list_screen\"\n",
    "    and params.key = \"wup_session_id\"\n",
    "    and params.value.string_value is not null\n",
    "    group by user_pseudo_id\n",
    "'''\n",
    "\n",
    "project_id = 'wuplo-client'\n",
    "\n",
    "average_count_sessions = client.query(sql, project=project_id).to_dataframe()"
   ]
  },
  {
   "cell_type": "code",
   "execution_count": 371,
   "metadata": {},
   "outputs": [],
   "source": [
    "groups_1_average_count_sessions = average_count_sessions[average_count_sessions['user_pseudo_id'].isin(users_add_to_basket)]\n",
    "groups_2_average_count_sessions = average_count_sessions[average_count_sessions['user_pseudo_id'].isin(users_not_add_to_basket)]"
   ]
  },
  {
   "cell_type": "code",
   "execution_count": 374,
   "metadata": {},
   "outputs": [
    {
     "name": "stdout",
     "output_type": "stream",
     "text": [
      "Среднее кол-во сессий на пользователя в Группе 1:  3.715145436308927\n",
      "Среднее кол-во сессий на пользователя в Группе 2:  1.705737704918033\n"
     ]
    }
   ],
   "source": [
    "print(\"Среднее кол-во сессий на пользователя в Группе 1: \",\n",
    "      groups_1_average_count_sessions[\"count_sessions\"].mean())\n",
    "\n",
    "print(\"Среднее кол-во сессий на пользователя в Группе 2: \",\n",
    "      groups_2_average_count_sessions[\"count_sessions\"].mean())"
   ]
  },
  {
   "cell_type": "markdown",
   "metadata": {},
   "source": [
    "### Отделяем пользователей с конверсией и без"
   ]
  },
  {
   "cell_type": "code",
   "execution_count": 214,
   "metadata": {},
   "outputs": [],
   "source": [
    "users_add_to_basket = list(df[df[\"add_to_cart_event\"] == \"add_to_cart_event\"].user_id)\n",
    "users_not_add_to_basket = list(df[df[\"add_to_cart_event\"] != \"add_to_cart_event\"].user_id)"
   ]
  },
  {
   "cell_type": "code",
   "execution_count": 215,
   "metadata": {},
   "outputs": [
    {
     "name": "stdout",
     "output_type": "stream",
     "text": [
      "Пользователей, которые добавляли в корзину:  997\n",
      "Пользователей, которые не добавляли в корзину:  1220\n"
     ]
    }
   ],
   "source": [
    "print(\"Пользователей, которые добавляли в корзину: \", len(users_add_to_basket))\n",
    "print(\"Пользователей, которые не добавляли в корзину: \", len(users_not_add_to_basket))"
   ]
  },
  {
   "cell_type": "markdown",
   "metadata": {},
   "source": [
    "### Считаем самые кол-во просмотров карточек товаров в каждой группе "
   ]
  },
  {
   "cell_type": "code",
   "execution_count": 360,
   "metadata": {},
   "outputs": [],
   "source": [
    "groups_1_freq_view_items = freq_view_items[freq_view_items['user_pseudo_id'].isin(users_add_to_basket)]\n",
    "groups_2_freq_view_items = freq_view_items[freq_view_items['user_pseudo_id'].isin(users_not_add_to_basket)]"
   ]
  },
  {
   "cell_type": "code",
   "execution_count": 361,
   "metadata": {},
   "outputs": [
    {
     "name": "stdout",
     "output_type": "stream",
     "text": [
      "Среднее кол-во просмотренных карточек товаров на пользователя за сессию в Группе 1:  310.5169775157995\n",
      "Среднее кол-во просмотренных карточек товаров на пользователя за сессию в Группе 2:  102.78070582877957\n"
     ]
    }
   ],
   "source": [
    "print(\"Среднее кол-во просмотренных карточек товаров на пользователя за сессию в Группе 1: \",\n",
    "      groups_1_freq_view_items[\"avg_events\"].mean())\n",
    "\n",
    "print(\"Среднее кол-во просмотренных карточек товаров на пользователя за сессию в Группе 2: \",\n",
    "      groups_2_freq_view_items[\"avg_events\"].mean())"
   ]
  },
  {
   "cell_type": "code",
   "execution_count": 263,
   "metadata": {},
   "outputs": [
    {
     "data": {
      "text/plain": [
       "115.49954254345838"
      ]
     },
     "execution_count": 263,
     "metadata": {},
     "output_type": "execute_result"
    }
   ],
   "source": [
    "groups_2_freq_view_items[\"events\"].mean()"
   ]
  },
  {
   "cell_type": "markdown",
   "metadata": {},
   "source": [
    "### Считаем распределение по зоне доставки в каждой группе "
   ]
  },
  {
   "cell_type": "code",
   "execution_count": 322,
   "metadata": {},
   "outputs": [],
   "source": [
    "sql = '''\n",
    "    select\n",
    "        user_pseudo_id,\n",
    "        max((select value.int_value from UNNEST(event_params) where key = \"id_delivery_zone\")) as id_delivery_zone\n",
    "    FROM `wuplo-client.analytics_272238589.events_*`, UNNEST(event_params) AS params\n",
    "    where (_TABLE_SUFFIX BETWEEN '20210901' and '20210927')\n",
    "    and platform in ('ANDROID', 'IOS')\n",
    "    and event_name in (\"wup_input_address\")\n",
    "    and (select value.int_value from UNNEST(event_params) where key = \"ga_session_number\") = 1\n",
    "    group by user_pseudo_id\n",
    "'''\n",
    "\n",
    "project_id = 'wuplo-client'\n",
    "\n",
    "deliveryzone_groups = client.query(sql, project=project_id).to_dataframe()"
   ]
  },
  {
   "cell_type": "code",
   "execution_count": 324,
   "metadata": {},
   "outputs": [],
   "source": [
    "deliveryzone_groups1 = deliveryzone_groups[deliveryzone_groups['user_pseudo_id'].isin(users_add_to_basket)]\n",
    "deliveryzone_groups2 = deliveryzone_groups[deliveryzone_groups['user_pseudo_id'].isin(users_not_add_to_basket)]"
   ]
  },
  {
   "cell_type": "code",
   "execution_count": 329,
   "metadata": {},
   "outputs": [],
   "source": [
    "deliveryzone_groups1 = deliveryzone_groups1.groupby([\"id_delivery_zone\"]).agg({\"user_pseudo_id\": \"count\"}).reset_index()\n",
    "deliveryzone_groups2 = deliveryzone_groups2.groupby([\"id_delivery_zone\"]).agg({\"user_pseudo_id\": \"count\"}).reset_index()"
   ]
  },
  {
   "cell_type": "code",
   "execution_count": 333,
   "metadata": {},
   "outputs": [],
   "source": [
    "deliveryzone_groups1[\"share_users\"] = deliveryzone_groups1[\"user_pseudo_id\"] / deliveryzone_groups1.user_pseudo_id.sum() * 100\n",
    "deliveryzone_groups2[\"share_users\"] = deliveryzone_groups2[\"user_pseudo_id\"] / deliveryzone_groups2.user_pseudo_id.sum() * 100"
   ]
  },
  {
   "cell_type": "code",
   "execution_count": 335,
   "metadata": {},
   "outputs": [
    {
     "data": {
      "text/html": [
       "<div>\n",
       "<style scoped>\n",
       "    .dataframe tbody tr th:only-of-type {\n",
       "        vertical-align: middle;\n",
       "    }\n",
       "\n",
       "    .dataframe tbody tr th {\n",
       "        vertical-align: top;\n",
       "    }\n",
       "\n",
       "    .dataframe thead th {\n",
       "        text-align: right;\n",
       "    }\n",
       "</style>\n",
       "<table border=\"1\" class=\"dataframe\">\n",
       "  <thead>\n",
       "    <tr style=\"text-align: right;\">\n",
       "      <th></th>\n",
       "      <th>id_delivery_zone</th>\n",
       "      <th>user_pseudo_id</th>\n",
       "      <th>share_users</th>\n",
       "    </tr>\n",
       "  </thead>\n",
       "  <tbody>\n",
       "    <tr>\n",
       "      <th>0</th>\n",
       "      <td>0</td>\n",
       "      <td>6</td>\n",
       "      <td>0.528169</td>\n",
       "    </tr>\n",
       "    <tr>\n",
       "      <th>1</th>\n",
       "      <td>15</td>\n",
       "      <td>107</td>\n",
       "      <td>9.419014</td>\n",
       "    </tr>\n",
       "    <tr>\n",
       "      <th>2</th>\n",
       "      <td>30</td>\n",
       "      <td>331</td>\n",
       "      <td>29.137324</td>\n",
       "    </tr>\n",
       "    <tr>\n",
       "      <th>3</th>\n",
       "      <td>60</td>\n",
       "      <td>692</td>\n",
       "      <td>60.915493</td>\n",
       "    </tr>\n",
       "  </tbody>\n",
       "</table>\n",
       "</div>"
      ],
      "text/plain": [
       "   id_delivery_zone  user_pseudo_id  share_users\n",
       "0                 0               6     0.528169\n",
       "1                15             107     9.419014\n",
       "2                30             331    29.137324\n",
       "3                60             692    60.915493"
      ]
     },
     "execution_count": 335,
     "metadata": {},
     "output_type": "execute_result"
    }
   ],
   "source": [
    "deliveryzone_groups2"
   ]
  },
  {
   "cell_type": "markdown",
   "metadata": {},
   "source": [
    "### Считаем топ просмотренных товаров в каждой группе "
   ]
  },
  {
   "cell_type": "code",
   "execution_count": 287,
   "metadata": {},
   "outputs": [],
   "source": [
    "sql = '''\n",
    "    select distinct\n",
    "        user_pseudo_id,\n",
    "        params.value.int_value as product_id,\n",
    "        (select value.int_value from UNNEST(event_params) where key = \"ga_session_number\") as session_number,\n",
    "        (select value.double_value from unnest(event_params) where key = \"current_price\") as current_price\n",
    "    FROM `wuplo-client.analytics_272238589.events_*`, UNNEST(event_params) AS params\n",
    "    where (_TABLE_SUFFIX BETWEEN '20210901' and '20210927')\n",
    "    and platform in ('ANDROID', 'IOS')\n",
    "    and event_name in (\"wup_view_item_screen\")\n",
    "    and params.key = \"product_id\"\n",
    "    and (select value.int_value from UNNEST(event_params) where key = \"ga_session_number\") = 1\n",
    "'''\n",
    "\n",
    "project_id = 'wuplo-client'\n",
    "\n",
    "products = client.query(sql, project=project_id).to_dataframe()"
   ]
  },
  {
   "cell_type": "code",
   "execution_count": 289,
   "metadata": {},
   "outputs": [],
   "source": [
    "groups_1_products = products[products['user_pseudo_id'].isin(users_add_to_basket)]\n",
    "groups_2_products = products[products['user_pseudo_id'].isin(users_not_add_to_basket)]"
   ]
  },
  {
   "cell_type": "code",
   "execution_count": 294,
   "metadata": {},
   "outputs": [],
   "source": [
    "products1 = groups_1_products.groupby([\"product_id\"]).agg({\"user_pseudo_id\" : \"count\",\n",
    "                                                          \"current_price\": \"mean\"\n",
    "                                                          }).reset_index() \\\n",
    "    .sort_values(by=[\"user_pseudo_id\"], ascending=False)"
   ]
  },
  {
   "cell_type": "code",
   "execution_count": 295,
   "metadata": {},
   "outputs": [],
   "source": [
    "products2 = groups_2_products.groupby([\"product_id\"]).agg({\"user_pseudo_id\" : \"count\",\n",
    "                                                          \"current_price\": \"mean\"\n",
    "                                                          }).reset_index() \\\n",
    "    .sort_values(by=[\"user_pseudo_id\"], ascending=False)"
   ]
  },
  {
   "cell_type": "code",
   "execution_count": 241,
   "metadata": {},
   "outputs": [],
   "source": [
    "list_of_products = pd.read_csv(\"products.tsv\", sep=\"\\t\", header=None)"
   ]
  },
  {
   "cell_type": "code",
   "execution_count": 243,
   "metadata": {},
   "outputs": [],
   "source": [
    "list_of_products.columns = [\"product_id\", \"name_product\"]"
   ]
  },
  {
   "cell_type": "code",
   "execution_count": 296,
   "metadata": {},
   "outputs": [
    {
     "data": {
      "text/html": [
       "<div>\n",
       "<style scoped>\n",
       "    .dataframe tbody tr th:only-of-type {\n",
       "        vertical-align: middle;\n",
       "    }\n",
       "\n",
       "    .dataframe tbody tr th {\n",
       "        vertical-align: top;\n",
       "    }\n",
       "\n",
       "    .dataframe thead th {\n",
       "        text-align: right;\n",
       "    }\n",
       "</style>\n",
       "<table border=\"1\" class=\"dataframe\">\n",
       "  <thead>\n",
       "    <tr style=\"text-align: right;\">\n",
       "      <th></th>\n",
       "      <th>product_id</th>\n",
       "      <th>user_pseudo_id</th>\n",
       "      <th>current_price</th>\n",
       "    </tr>\n",
       "  </thead>\n",
       "  <tbody>\n",
       "    <tr>\n",
       "      <th>1557</th>\n",
       "      <td>6092</td>\n",
       "      <td>358</td>\n",
       "      <td>1.097542</td>\n",
       "    </tr>\n",
       "    <tr>\n",
       "      <th>1593</th>\n",
       "      <td>6135</td>\n",
       "      <td>356</td>\n",
       "      <td>1.097528</td>\n",
       "    </tr>\n",
       "    <tr>\n",
       "      <th>1211</th>\n",
       "      <td>5708</td>\n",
       "      <td>335</td>\n",
       "      <td>2.178782</td>\n",
       "    </tr>\n",
       "    <tr>\n",
       "      <th>24</th>\n",
       "      <td>4097</td>\n",
       "      <td>319</td>\n",
       "      <td>2.155994</td>\n",
       "    </tr>\n",
       "    <tr>\n",
       "      <th>1680</th>\n",
       "      <td>6237</td>\n",
       "      <td>312</td>\n",
       "      <td>1.216327</td>\n",
       "    </tr>\n",
       "    <tr>\n",
       "      <th>...</th>\n",
       "      <td>...</td>\n",
       "      <td>...</td>\n",
       "      <td>...</td>\n",
       "    </tr>\n",
       "    <tr>\n",
       "      <th>253</th>\n",
       "      <td>4496</td>\n",
       "      <td>2</td>\n",
       "      <td>3.790000</td>\n",
       "    </tr>\n",
       "    <tr>\n",
       "      <th>1804</th>\n",
       "      <td>6416</td>\n",
       "      <td>1</td>\n",
       "      <td>6.990000</td>\n",
       "    </tr>\n",
       "    <tr>\n",
       "      <th>1618</th>\n",
       "      <td>6161</td>\n",
       "      <td>1</td>\n",
       "      <td>2.690000</td>\n",
       "    </tr>\n",
       "    <tr>\n",
       "      <th>248</th>\n",
       "      <td>4490</td>\n",
       "      <td>1</td>\n",
       "      <td>1.890000</td>\n",
       "    </tr>\n",
       "    <tr>\n",
       "      <th>1737</th>\n",
       "      <td>6296</td>\n",
       "      <td>1</td>\n",
       "      <td>3.390000</td>\n",
       "    </tr>\n",
       "  </tbody>\n",
       "</table>\n",
       "<p>1821 rows × 3 columns</p>\n",
       "</div>"
      ],
      "text/plain": [
       "      product_id  user_pseudo_id  current_price\n",
       "1557        6092             358       1.097542\n",
       "1593        6135             356       1.097528\n",
       "1211        5708             335       2.178782\n",
       "24          4097             319       2.155994\n",
       "1680        6237             312       1.216327\n",
       "...          ...             ...            ...\n",
       "253         4496               2       3.790000\n",
       "1804        6416               1       6.990000\n",
       "1618        6161               1       2.690000\n",
       "248         4490               1       1.890000\n",
       "1737        6296               1       3.390000\n",
       "\n",
       "[1821 rows x 3 columns]"
      ]
     },
     "execution_count": 296,
     "metadata": {},
     "output_type": "execute_result"
    }
   ],
   "source": [
    "products1"
   ]
  },
  {
   "cell_type": "code",
   "execution_count": 301,
   "metadata": {},
   "outputs": [],
   "source": [
    "items_top_group1 = pd.merge(products1, list_of_products, how=\"left\", on=[\"product_id\"])\n",
    "items_top_group2 = pd.merge(products2, list_of_products, how=\"left\", on=[\"product_id\"])"
   ]
  },
  {
   "cell_type": "code",
   "execution_count": 342,
   "metadata": {},
   "outputs": [
    {
     "name": "stdout",
     "output_type": "stream",
     "text": [
      "Медианная цена топ-25 самых просматриваемых продуктов в первое посещение Группы 1 : 1.2843847512038578\n",
      "Медианная цена топ-25 самых просматриваемых продуктов в первое посещение Группы 1 : 1.6005128205128223\n"
     ]
    }
   ],
   "source": [
    "print(\"Медианная цена топ-25 самых просматриваемых продуктов в первое посещение Группы 1 :\", \n",
    "      g_prod_mean_1[\"current_price\"].median())\n",
    "print(\"Медианная цена топ-25 самых просматриваемых продуктов в первое посещение Группы 1 :\", \n",
    "      g_prod_mean_2[\"current_price\"].median())"
   ]
  },
  {
   "cell_type": "markdown",
   "metadata": {},
   "source": [
    "### Доля пользователей по совершенным событиям"
   ]
  },
  {
   "cell_type": "code",
   "execution_count": 56,
   "metadata": {},
   "outputs": [],
   "source": [
    "sql = '''\n",
    "    select distinct\n",
    "        user_pseudo_id,\n",
    "        device.mobile_model_name,\n",
    "        device.operating_system,\n",
    "        platform,\n",
    "        device.language,\n",
    "        geo.country,\n",
    "        app_info.version,\n",
    "        geo.city\n",
    "    FROM `wuplo-client.analytics_272238589.events_*`\n",
    "    where (_TABLE_SUFFIX BETWEEN '20210901' and '20210927')\n",
    "    and platform in ('ANDROID', 'IOS')\n",
    "    and event_name in (\"wup_first_open_event\")\n",
    "'''\n",
    "\n",
    "project_id = 'wuplo-client'\n",
    "\n",
    "groups = client.query(sql, project=project_id).to_dataframe()\n"
   ]
  },
  {
   "cell_type": "code",
   "execution_count": 57,
   "metadata": {},
   "outputs": [],
   "source": [
    "groups_1 = groups[groups['user_pseudo_id'].isin(users_add_to_basket)]\n",
    "groups_2 = groups[groups['user_pseudo_id'].isin(users_not_add_to_basket)]"
   ]
  },
  {
   "cell_type": "code",
   "execution_count": 58,
   "metadata": {},
   "outputs": [
    {
     "data": {
      "text/html": [
       "<div>\n",
       "<style scoped>\n",
       "    .dataframe tbody tr th:only-of-type {\n",
       "        vertical-align: middle;\n",
       "    }\n",
       "\n",
       "    .dataframe tbody tr th {\n",
       "        vertical-align: top;\n",
       "    }\n",
       "\n",
       "    .dataframe thead th {\n",
       "        text-align: right;\n",
       "    }\n",
       "</style>\n",
       "<table border=\"1\" class=\"dataframe\">\n",
       "  <thead>\n",
       "    <tr style=\"text-align: right;\">\n",
       "      <th></th>\n",
       "      <th>version</th>\n",
       "      <th>user_pseudo_id</th>\n",
       "      <th>share</th>\n",
       "    </tr>\n",
       "  </thead>\n",
       "  <tbody>\n",
       "    <tr>\n",
       "      <th>0</th>\n",
       "      <td>1.3</td>\n",
       "      <td>580</td>\n",
       "      <td>58.174524</td>\n",
       "    </tr>\n",
       "    <tr>\n",
       "      <th>1</th>\n",
       "      <td>1.3.0</td>\n",
       "      <td>410</td>\n",
       "      <td>41.123370</td>\n",
       "    </tr>\n",
       "    <tr>\n",
       "      <th>3</th>\n",
       "      <td>1.4.0</td>\n",
       "      <td>4</td>\n",
       "      <td>0.401204</td>\n",
       "    </tr>\n",
       "    <tr>\n",
       "      <th>2</th>\n",
       "      <td>1.4</td>\n",
       "      <td>3</td>\n",
       "      <td>0.300903</td>\n",
       "    </tr>\n",
       "  </tbody>\n",
       "</table>\n",
       "</div>"
      ],
      "text/plain": [
       "  version  user_pseudo_id      share\n",
       "0     1.3             580  58.174524\n",
       "1   1.3.0             410  41.123370\n",
       "3   1.4.0               4   0.401204\n",
       "2     1.4               3   0.300903"
      ]
     },
     "execution_count": 58,
     "metadata": {},
     "output_type": "execute_result"
    }
   ],
   "source": [
    "a = groups_1.groupby([\"version\"]).agg({\"user_pseudo_id\": \"count\"}).reset_index() \\\n",
    "    .sort_values(by = [\"user_pseudo_id\"], ascending=False)\n",
    "\n",
    "a[\"share\"] = a[\"user_pseudo_id\"] / a[\"user_pseudo_id\"].sum() * 100\n",
    "a.head(15)"
   ]
  },
  {
   "cell_type": "code",
   "execution_count": 59,
   "metadata": {},
   "outputs": [
    {
     "data": {
      "text/html": [
       "<div>\n",
       "<style scoped>\n",
       "    .dataframe tbody tr th:only-of-type {\n",
       "        vertical-align: middle;\n",
       "    }\n",
       "\n",
       "    .dataframe tbody tr th {\n",
       "        vertical-align: top;\n",
       "    }\n",
       "\n",
       "    .dataframe thead th {\n",
       "        text-align: right;\n",
       "    }\n",
       "</style>\n",
       "<table border=\"1\" class=\"dataframe\">\n",
       "  <thead>\n",
       "    <tr style=\"text-align: right;\">\n",
       "      <th></th>\n",
       "      <th>version</th>\n",
       "      <th>user_pseudo_id</th>\n",
       "      <th>share</th>\n",
       "    </tr>\n",
       "  </thead>\n",
       "  <tbody>\n",
       "    <tr>\n",
       "      <th>0</th>\n",
       "      <td>1.3</td>\n",
       "      <td>752</td>\n",
       "      <td>61.639344</td>\n",
       "    </tr>\n",
       "    <tr>\n",
       "      <th>1</th>\n",
       "      <td>1.3.0</td>\n",
       "      <td>465</td>\n",
       "      <td>38.114754</td>\n",
       "    </tr>\n",
       "    <tr>\n",
       "      <th>3</th>\n",
       "      <td>1.4.0</td>\n",
       "      <td>2</td>\n",
       "      <td>0.163934</td>\n",
       "    </tr>\n",
       "    <tr>\n",
       "      <th>2</th>\n",
       "      <td>1.4</td>\n",
       "      <td>1</td>\n",
       "      <td>0.081967</td>\n",
       "    </tr>\n",
       "  </tbody>\n",
       "</table>\n",
       "</div>"
      ],
      "text/plain": [
       "  version  user_pseudo_id      share\n",
       "0     1.3             752  61.639344\n",
       "1   1.3.0             465  38.114754\n",
       "3   1.4.0               2   0.163934\n",
       "2     1.4               1   0.081967"
      ]
     },
     "execution_count": 59,
     "metadata": {},
     "output_type": "execute_result"
    }
   ],
   "source": [
    "b = groups_2.groupby([\"version\"]).agg({\"user_pseudo_id\": \"count\"}).reset_index() \\\n",
    "    .sort_values(by = [\"user_pseudo_id\"], ascending=False)\n",
    "\n",
    "b[\"share\"] = b[\"user_pseudo_id\"] / b[\"user_pseudo_id\"].sum() * 100\n",
    "b.head(15)"
   ]
  },
  {
   "cell_type": "code",
   "execution_count": 68,
   "metadata": {},
   "outputs": [],
   "source": [
    "df_group_1 = df_events[df_events['user_pseudo_id'].isin(users_add_to_basket)]\n",
    "df_group_2 = df_events[df_events['user_pseudo_id'].isin(users_not_add_to_basket)]"
   ]
  },
  {
   "cell_type": "code",
   "execution_count": 69,
   "metadata": {},
   "outputs": [
    {
     "data": {
      "text/plain": [
       "195"
      ]
     },
     "execution_count": 69,
     "metadata": {},
     "output_type": "execute_result"
    }
   ],
   "source": [
    "len(df_group_1[df_group_1[\"event_name\"] == \"promocode_activated_event\"][\"user_pseudo_id\"].unique())"
   ]
  },
  {
   "cell_type": "code",
   "execution_count": 70,
   "metadata": {},
   "outputs": [
    {
     "name": "stdout",
     "output_type": "stream",
     "text": [
      "Доля пользователей с активацией промокода среди пользователей Группы 1:  19.6  %\n",
      "Доля пользователей с активацией промокода среди пользователей Группы 2:  4.2  %\n"
     ]
    }
   ],
   "source": [
    "print(\"Доля пользователей с активацией промокода среди пользователей Группы 1: \", \\\n",
    "      round(len(df_group_1[df_group_1[\"event_name\"] == \"promocode_activated_event\"]) / len(df_group_1[\"user_pseudo_id\"].unique()) * 100, 1), \" %\")\n",
    "\n",
    "print(\"Доля пользователей с активацией промокода среди пользователей Группы 2: \", \\\n",
    "      round(len(df_group_2[df_group_2[\"event_name\"] == \"promocode_activated_event\"]) / len(df_group_2[\"user_pseudo_id\"].unique()) * 100, 1), \" %\")"
   ]
  },
  {
   "cell_type": "code",
   "execution_count": 265,
   "metadata": {},
   "outputs": [
    {
     "name": "stdout",
     "output_type": "stream",
     "text": [
      "Доля пользователей с поисковыми запросами среди пользователей Группы 1:  51.7  %\n",
      "Доля пользователей с поисковыми запросами среди пользователей Группы 2:  27.3  %\n"
     ]
    }
   ],
   "source": [
    "print(\"Доля пользователей с поисковыми запросами среди пользователей Группы 1: \", \\\n",
    "      round(len(df_group_1[df_group_1[\"event_name\"] == \"search_request_event\"]) / len(df_group_1[\"user_pseudo_id\"].unique()) * 100, 1), \" %\")\n",
    "\n",
    "print(\"Доля пользователей с поисковыми запросами среди пользователей Группы 2: \", \\\n",
    "      round(len(df_group_2[df_group_2[\"event_name\"] == \"search_request_event\"]) / len(df_group_2[\"user_pseudo_id\"].unique()) * 100, 1), \" %\")"
   ]
  },
  {
   "cell_type": "code",
   "execution_count": 71,
   "metadata": {},
   "outputs": [],
   "source": [
    "group1 = df_group_1.groupby([\"event_name\"]).agg({\"user_pseudo_id\": \"count\"}).reset_index() \\\n",
    "    .sort_values(by=[\"user_pseudo_id\"], ascending=False)\n",
    "\n",
    "group2 = df_group_2.groupby([\"event_name\"]).agg({\"user_pseudo_id\": \"count\"}).reset_index() \\\n",
    "    .sort_values(by=[\"user_pseudo_id\"], ascending=False)"
   ]
  },
  {
   "cell_type": "code",
   "execution_count": 72,
   "metadata": {},
   "outputs": [],
   "source": [
    "events = pd.merge(group1, group2, how='outer', on=['event_name'])"
   ]
  },
  {
   "cell_type": "code",
   "execution_count": 74,
   "metadata": {},
   "outputs": [
    {
     "data": {
      "text/html": [
       "<div>\n",
       "<style scoped>\n",
       "    .dataframe tbody tr th:only-of-type {\n",
       "        vertical-align: middle;\n",
       "    }\n",
       "\n",
       "    .dataframe tbody tr th {\n",
       "        vertical-align: top;\n",
       "    }\n",
       "\n",
       "    .dataframe thead th {\n",
       "        text-align: right;\n",
       "    }\n",
       "</style>\n",
       "<table border=\"1\" class=\"dataframe\">\n",
       "  <thead>\n",
       "    <tr style=\"text-align: right;\">\n",
       "      <th></th>\n",
       "      <th>event_name</th>\n",
       "      <th>user_pseudo_id_x</th>\n",
       "      <th>user_pseudo_id_y</th>\n",
       "    </tr>\n",
       "  </thead>\n",
       "  <tbody>\n",
       "    <tr>\n",
       "      <th>55</th>\n",
       "      <td>promocode_activated_event</td>\n",
       "      <td>195</td>\n",
       "      <td>51.0</td>\n",
       "    </tr>\n",
       "  </tbody>\n",
       "</table>\n",
       "</div>"
      ],
      "text/plain": [
       "                   event_name  user_pseudo_id_x  user_pseudo_id_y\n",
       "55  promocode_activated_event               195              51.0"
      ]
     },
     "execution_count": 74,
     "metadata": {},
     "output_type": "execute_result"
    }
   ],
   "source": [
    "events.loc[events[\"event_name\"] == \"promocode_activated_event\"]"
   ]
  },
  {
   "cell_type": "code",
   "execution_count": 164,
   "metadata": {},
   "outputs": [],
   "source": [
    "events.to_excel(\"view.xlsx\")"
   ]
  },
  {
   "cell_type": "markdown",
   "metadata": {},
   "source": [
    "### Путь пользователей"
   ]
  },
  {
   "cell_type": "code",
   "execution_count": 165,
   "metadata": {},
   "outputs": [],
   "source": [
    "retentioneering.config.update({\n",
    "    'user_col': 'user_pseudo_id',\n",
    "    'event_col':'event_name',\n",
    "    'event_time_col':'ts',\n",
    "})"
   ]
  },
  {
   "cell_type": "code",
   "execution_count": null,
   "metadata": {},
   "outputs": [],
   "source": [
    "df_group_1.rete.plot_graph(norm_type='full',\n",
    "                     weight_col='user_pseudo_id',\n",
    "                     thresh=0.0,\n",
    "                     targets = {'add_to_cart_event':'green',\n",
    "                                'lost':'red'})"
   ]
  },
  {
   "cell_type": "code",
   "execution_count": null,
   "metadata": {},
   "outputs": [],
   "source": [
    "df_group_1 = df_group_1.loc[(df_group_1[\"event_name\"] != \"session_start\") & (df_group_1[\"event_name\"] != \"firebase_campaign\")]\n",
    "df_group_1.rete.step_matrix(max_steps=50,\n",
    "                            thresh = 0.1,\n",
    "                            targets=['add_to_cart_event']\n",
    ")"
   ]
  },
  {
   "cell_type": "code",
   "execution_count": null,
   "metadata": {},
   "outputs": [],
   "source": [
    "df_group_2 = df_group_2.loc[(df_group_2[\"event_name\"] != \"session_start\") & (df_group_2[\"event_name\"] != \"firebase_campaign\")]\n",
    "df_group_2.rete.step_matrix(max_steps=50,\n",
    "                            thresh = 0.1\n",
    ")"
   ]
  },
  {
   "cell_type": "code",
   "execution_count": null,
   "metadata": {},
   "outputs": [],
   "source": [
    "df_group_2.rete.step_matrix(max_steps=25,\n",
    "                    thresh = 0.1,\n",
    "                   centered={'event':'wup_view_item_screen',\n",
    "                   'left_gap':10,\n",
    "                  'occurrence':1}\n",
    "                   )"
   ]
  },
  {
   "cell_type": "code",
   "execution_count": 185,
   "metadata": {},
   "outputs": [],
   "source": [
    "transitions = df_group_2.rete.get_adjacency(weight_col='user_pseudo_id', norm_type='full')"
   ]
  },
  {
   "cell_type": "code",
   "execution_count": 187,
   "metadata": {},
   "outputs": [],
   "source": [
    "transitions.to_excel(\"transitions2.xlsx\")"
   ]
  },
  {
   "cell_type": "code",
   "execution_count": 392,
   "metadata": {},
   "outputs": [],
   "source": [
    "sql = '''\n",
    "    with first_event_date as\n",
    "    (\n",
    "        SELECT\n",
    "            user_pseudo_id,\n",
    "            min(event_date) as min_wup_first_open_event\n",
    "        FROM `wuplo-client.analytics_272238589.events_*`, UNNEST(event_params) AS params\n",
    "        where (_TABLE_SUFFIX BETWEEN '20210901' and '20210927')\n",
    "        and platform in ('ANDROID', 'IOS')\n",
    "        and event_name = \"wup_first_open_event\"\n",
    "        group by user_pseudo_id\n",
    "    ),\n",
    "\n",
    "    add_to_cart as (\n",
    "            SELECT\n",
    "            user_pseudo_id,\n",
    "            min(event_date) as min_add_to_cart\n",
    "        FROM `wuplo-client.analytics_272238589.events_*`, UNNEST(event_params) AS params\n",
    "        where (_TABLE_SUFFIX BETWEEN '20210901' and '20210927')\n",
    "        and platform in ('ANDROID', 'IOS')\n",
    "        and event_name = \"add_to_cart_event\"\n",
    "        group by user_pseudo_id\n",
    "    )\n",
    "\n",
    "    select\n",
    "        first_event_date.user_pseudo_id,\n",
    "        first_event_date.min_wup_first_open_event,\n",
    "        add_to_cart.min_add_to_cart,\n",
    "        DATE_DIFF(PARSE_DATE('%Y%m%d', add_to_cart.min_add_to_cart),  \n",
    "        PARSE_DATE('%Y%m%d', first_event_date.min_wup_first_open_event), DAY) as days_diff\n",
    "    from first_event_date\n",
    "    left join add_to_cart on add_to_cart.user_pseudo_id = first_event_date.user_pseudo_id\n",
    "    where add_to_cart.min_add_to_cart is not null\n",
    "'''\n",
    "\n",
    "project_id = 'wuplo-client'\n",
    "\n",
    "timedelta_events = client.query(sql, project=project_id).to_dataframe()"
   ]
  },
  {
   "cell_type": "code",
   "execution_count": 394,
   "metadata": {},
   "outputs": [],
   "source": [
    "timedelta_events = timedelta_events[timedelta_events['user_pseudo_id'].isin(users_add_to_basket)]"
   ]
  },
  {
   "cell_type": "code",
   "execution_count": 422,
   "metadata": {},
   "outputs": [],
   "source": [
    "timedelta_events = timedelta_events.groupby([\"days_diff\"]).agg({\"user_pseudo_id\": \"count\"}).reset_index() \\\n",
    "    .sort_values(by = [\"user_pseudo_id\"], ascending=False)"
   ]
  },
  {
   "cell_type": "code",
   "execution_count": 415,
   "metadata": {},
   "outputs": [
    {
     "name": "stderr",
     "output_type": "stream",
     "text": [
      "/Users/aryzhkov/opt/anaconda3/lib/python3.8/site-packages/seaborn/distributions.py:2551: FutureWarning:\n",
      "\n",
      "`distplot` is a deprecated function and will be removed in a future version. Please adapt your code to use either `displot` (a figure-level function with similar flexibility) or `histplot` (an axes-level function for histograms).\n",
      "\n"
     ]
    },
    {
     "data": {
      "text/plain": [
       "Text(0, 0.5, 'Users')"
      ]
     },
     "execution_count": 415,
     "metadata": {},
     "output_type": "execute_result"
    },
    {
     "data": {
      "image/png": "[encoded data removed]",
      "text/plain": [
       "<Figure size 432x288 with 1 Axes>"
      ]
     },
     "metadata": {
      "needs_background": "light"
     },
     "output_type": "display_data"
    }
   ],
   "source": [
    "# timedelta_events[\"days_diff\"].hist()\n",
    "import seaborn as sns\n",
    "import matplotlib.pyplot as plt\n",
    "\n",
    "sns.distplot(timedelta_events[\"days_diff\"], color='red', bins=11)\n",
    "plt.title('Average Count Days Between First Open And Add To Cart', fontsize=10)\n",
    "plt.xlabel('Days', fontsize=8)\n",
    "plt.ylabel('Users', fontsize=8)"
   ]
  },
  {
   "cell_type": "code",
   "execution_count": 426,
   "metadata": {},
   "outputs": [],
   "source": [
    "timedelta_events[\"days_diff_share\"] = timedelta_events[\"user_pseudo_id\"] / 997 * 100"
   ]
  },
  {
   "cell_type": "code",
   "execution_count": 427,
   "metadata": {},
   "outputs": [
    {
     "data": {
      "text/html": [
       "<div>\n",
       "<style scoped>\n",
       "    .dataframe tbody tr th:only-of-type {\n",
       "        vertical-align: middle;\n",
       "    }\n",
       "\n",
       "    .dataframe tbody tr th {\n",
       "        vertical-align: top;\n",
       "    }\n",
       "\n",
       "    .dataframe thead th {\n",
       "        text-align: right;\n",
       "    }\n",
       "</style>\n",
       "<table border=\"1\" class=\"dataframe\">\n",
       "  <thead>\n",
       "    <tr style=\"text-align: right;\">\n",
       "      <th></th>\n",
       "      <th>days_diff</th>\n",
       "      <th>user_pseudo_id</th>\n",
       "      <th>days_diff_share</th>\n",
       "    </tr>\n",
       "  </thead>\n",
       "  <tbody>\n",
       "    <tr>\n",
       "      <th>0</th>\n",
       "      <td>0</td>\n",
       "      <td>757</td>\n",
       "      <td>75.927783</td>\n",
       "    </tr>\n",
       "    <tr>\n",
       "      <th>1</th>\n",
       "      <td>1</td>\n",
       "      <td>60</td>\n",
       "      <td>6.018054</td>\n",
       "    </tr>\n",
       "    <tr>\n",
       "      <th>5</th>\n",
       "      <td>5</td>\n",
       "      <td>35</td>\n",
       "      <td>3.510532</td>\n",
       "    </tr>\n",
       "    <tr>\n",
       "      <th>4</th>\n",
       "      <td>4</td>\n",
       "      <td>29</td>\n",
       "      <td>2.908726</td>\n",
       "    </tr>\n",
       "    <tr>\n",
       "      <th>2</th>\n",
       "      <td>2</td>\n",
       "      <td>21</td>\n",
       "      <td>2.106319</td>\n",
       "    </tr>\n",
       "    <tr>\n",
       "      <th>3</th>\n",
       "      <td>3</td>\n",
       "      <td>17</td>\n",
       "      <td>1.705115</td>\n",
       "    </tr>\n",
       "    <tr>\n",
       "      <th>7</th>\n",
       "      <td>7</td>\n",
       "      <td>13</td>\n",
       "      <td>1.303912</td>\n",
       "    </tr>\n",
       "    <tr>\n",
       "      <th>11</th>\n",
       "      <td>11</td>\n",
       "      <td>10</td>\n",
       "      <td>1.003009</td>\n",
       "    </tr>\n",
       "    <tr>\n",
       "      <th>6</th>\n",
       "      <td>6</td>\n",
       "      <td>9</td>\n",
       "      <td>0.902708</td>\n",
       "    </tr>\n",
       "    <tr>\n",
       "      <th>8</th>\n",
       "      <td>8</td>\n",
       "      <td>8</td>\n",
       "      <td>0.802407</td>\n",
       "    </tr>\n",
       "    <tr>\n",
       "      <th>9</th>\n",
       "      <td>9</td>\n",
       "      <td>8</td>\n",
       "      <td>0.802407</td>\n",
       "    </tr>\n",
       "    <tr>\n",
       "      <th>10</th>\n",
       "      <td>10</td>\n",
       "      <td>6</td>\n",
       "      <td>0.601805</td>\n",
       "    </tr>\n",
       "    <tr>\n",
       "      <th>12</th>\n",
       "      <td>12</td>\n",
       "      <td>5</td>\n",
       "      <td>0.501505</td>\n",
       "    </tr>\n",
       "    <tr>\n",
       "      <th>13</th>\n",
       "      <td>13</td>\n",
       "      <td>3</td>\n",
       "      <td>0.300903</td>\n",
       "    </tr>\n",
       "    <tr>\n",
       "      <th>19</th>\n",
       "      <td>20</td>\n",
       "      <td>3</td>\n",
       "      <td>0.300903</td>\n",
       "    </tr>\n",
       "    <tr>\n",
       "      <th>20</th>\n",
       "      <td>21</td>\n",
       "      <td>3</td>\n",
       "      <td>0.300903</td>\n",
       "    </tr>\n",
       "    <tr>\n",
       "      <th>14</th>\n",
       "      <td>14</td>\n",
       "      <td>2</td>\n",
       "      <td>0.200602</td>\n",
       "    </tr>\n",
       "    <tr>\n",
       "      <th>15</th>\n",
       "      <td>15</td>\n",
       "      <td>2</td>\n",
       "      <td>0.200602</td>\n",
       "    </tr>\n",
       "    <tr>\n",
       "      <th>16</th>\n",
       "      <td>16</td>\n",
       "      <td>2</td>\n",
       "      <td>0.200602</td>\n",
       "    </tr>\n",
       "    <tr>\n",
       "      <th>21</th>\n",
       "      <td>24</td>\n",
       "      <td>2</td>\n",
       "      <td>0.200602</td>\n",
       "    </tr>\n",
       "    <tr>\n",
       "      <th>17</th>\n",
       "      <td>17</td>\n",
       "      <td>1</td>\n",
       "      <td>0.100301</td>\n",
       "    </tr>\n",
       "    <tr>\n",
       "      <th>18</th>\n",
       "      <td>19</td>\n",
       "      <td>1</td>\n",
       "      <td>0.100301</td>\n",
       "    </tr>\n",
       "  </tbody>\n",
       "</table>\n",
       "</div>"
      ],
      "text/plain": [
       "    days_diff  user_pseudo_id  days_diff_share\n",
       "0           0             757        75.927783\n",
       "1           1              60         6.018054\n",
       "5           5              35         3.510532\n",
       "4           4              29         2.908726\n",
       "2           2              21         2.106319\n",
       "3           3              17         1.705115\n",
       "7           7              13         1.303912\n",
       "11         11              10         1.003009\n",
       "6           6               9         0.902708\n",
       "8           8               8         0.802407\n",
       "9           9               8         0.802407\n",
       "10         10               6         0.601805\n",
       "12         12               5         0.501505\n",
       "13         13               3         0.300903\n",
       "19         20               3         0.300903\n",
       "20         21               3         0.300903\n",
       "14         14               2         0.200602\n",
       "15         15               2         0.200602\n",
       "16         16               2         0.200602\n",
       "21         24               2         0.200602\n",
       "17         17               1         0.100301\n",
       "18         19               1         0.100301"
      ]
     },
     "execution_count": 427,
     "metadata": {},
     "output_type": "execute_result"
    }
   ],
   "source": [
    "timedelta_events"
   ]
  },
  {
   "cell_type": "code",
   "execution_count": 420,
   "metadata": {},
   "outputs": [
    {
     "data": {
      "text/html": [
       "<div>\n",
       "<style scoped>\n",
       "    .dataframe tbody tr th:only-of-type {\n",
       "        vertical-align: middle;\n",
       "    }\n",
       "\n",
       "    .dataframe tbody tr th {\n",
       "        vertical-align: top;\n",
       "    }\n",
       "\n",
       "    .dataframe thead th {\n",
       "        text-align: right;\n",
       "    }\n",
       "</style>\n",
       "<table border=\"1\" class=\"dataframe\">\n",
       "  <thead>\n",
       "    <tr style=\"text-align: right;\">\n",
       "      <th></th>\n",
       "      <th>user_pseudo_id</th>\n",
       "      <th>min_wup_first_open_event</th>\n",
       "      <th>min_add_to_cart</th>\n",
       "      <th>days_diff</th>\n",
       "      <th>days_diff_share</th>\n",
       "    </tr>\n",
       "  </thead>\n",
       "  <tbody>\n",
       "    <tr>\n",
       "      <th>115</th>\n",
       "      <td>52F110C0DC65425A816C7849053F6E86</td>\n",
       "      <td>20210903</td>\n",
       "      <td>20210927</td>\n",
       "      <td>24</td>\n",
       "      <td>2.407222</td>\n",
       "    </tr>\n",
       "    <tr>\n",
       "      <th>602</th>\n",
       "      <td>557d813d27c1c939594b6dd0ad888f1a</td>\n",
       "      <td>20210903</td>\n",
       "      <td>20210927</td>\n",
       "      <td>24</td>\n",
       "      <td>2.407222</td>\n",
       "    </tr>\n",
       "    <tr>\n",
       "      <th>780</th>\n",
       "      <td>d7070c62e0082423af6de78483ce1df1</td>\n",
       "      <td>20210904</td>\n",
       "      <td>20210925</td>\n",
       "      <td>21</td>\n",
       "      <td>2.106319</td>\n",
       "    </tr>\n",
       "    <tr>\n",
       "      <th>319</th>\n",
       "      <td>cab8496336efd6681b17f7a166a7819f</td>\n",
       "      <td>20210904</td>\n",
       "      <td>20210925</td>\n",
       "      <td>21</td>\n",
       "      <td>2.106319</td>\n",
       "    </tr>\n",
       "    <tr>\n",
       "      <th>295</th>\n",
       "      <td>8675CEF727034C6AB71C49EE2D909AF8</td>\n",
       "      <td>20210904</td>\n",
       "      <td>20210925</td>\n",
       "      <td>21</td>\n",
       "      <td>2.106319</td>\n",
       "    </tr>\n",
       "    <tr>\n",
       "      <th>...</th>\n",
       "      <td>...</td>\n",
       "      <td>...</td>\n",
       "      <td>...</td>\n",
       "      <td>...</td>\n",
       "      <td>...</td>\n",
       "    </tr>\n",
       "    <tr>\n",
       "      <th>397</th>\n",
       "      <td>85e47145e707ba306b700945abb35a13</td>\n",
       "      <td>20210927</td>\n",
       "      <td>20210927</td>\n",
       "      <td>0</td>\n",
       "      <td>0.000000</td>\n",
       "    </tr>\n",
       "    <tr>\n",
       "      <th>398</th>\n",
       "      <td>85eef29812d98f12791ab64780714877</td>\n",
       "      <td>20210927</td>\n",
       "      <td>20210927</td>\n",
       "      <td>0</td>\n",
       "      <td>0.000000</td>\n",
       "    </tr>\n",
       "    <tr>\n",
       "      <th>399</th>\n",
       "      <td>ef6dabada9043c2273daa66530840371</td>\n",
       "      <td>20210927</td>\n",
       "      <td>20210927</td>\n",
       "      <td>0</td>\n",
       "      <td>0.000000</td>\n",
       "    </tr>\n",
       "    <tr>\n",
       "      <th>400</th>\n",
       "      <td>b2577264af62d630eb56aa3c65b0fe72</td>\n",
       "      <td>20210927</td>\n",
       "      <td>20210927</td>\n",
       "      <td>0</td>\n",
       "      <td>0.000000</td>\n",
       "    </tr>\n",
       "    <tr>\n",
       "      <th>502</th>\n",
       "      <td>3FEF9CD4251D4537A541E2FCAE1C60B3</td>\n",
       "      <td>20210923</td>\n",
       "      <td>20210923</td>\n",
       "      <td>0</td>\n",
       "      <td>0.000000</td>\n",
       "    </tr>\n",
       "  </tbody>\n",
       "</table>\n",
       "<p>997 rows × 5 columns</p>\n",
       "</div>"
      ],
      "text/plain": [
       "                       user_pseudo_id min_wup_first_open_event  \\\n",
       "115  52F110C0DC65425A816C7849053F6E86                 20210903   \n",
       "602  557d813d27c1c939594b6dd0ad888f1a                 20210903   \n",
       "780  d7070c62e0082423af6de78483ce1df1                 20210904   \n",
       "319  cab8496336efd6681b17f7a166a7819f                 20210904   \n",
       "295  8675CEF727034C6AB71C49EE2D909AF8                 20210904   \n",
       "..                                ...                      ...   \n",
       "397  85e47145e707ba306b700945abb35a13                 20210927   \n",
       "398  85eef29812d98f12791ab64780714877                 20210927   \n",
       "399  ef6dabada9043c2273daa66530840371                 20210927   \n",
       "400  b2577264af62d630eb56aa3c65b0fe72                 20210927   \n",
       "502  3FEF9CD4251D4537A541E2FCAE1C60B3                 20210923   \n",
       "\n",
       "    min_add_to_cart  days_diff  days_diff_share  \n",
       "115        20210927         24         2.407222  \n",
       "602        20210927         24         2.407222  \n",
       "780        20210925         21         2.106319  \n",
       "319        20210925         21         2.106319  \n",
       "295        20210925         21         2.106319  \n",
       "..              ...        ...              ...  \n",
       "397        20210927          0         0.000000  \n",
       "398        20210927          0         0.000000  \n",
       "399        20210927          0         0.000000  \n",
       "400        20210927          0         0.000000  \n",
       "502        20210923          0         0.000000  \n",
       "\n",
       "[997 rows x 5 columns]"
      ]
     },
     "execution_count": 420,
     "metadata": {},
     "output_type": "execute_result"
    }
   ],
   "source": [
    "timedelta_events.sort_values(by = [\"days_diff_share\"], ascending=False)"
   ]
  },
  {
   "cell_type": "markdown",
   "metadata": {},
   "source": [
    "## Исследование активированных промокодов"
   ]
  },
  {
   "cell_type": "code",
   "execution_count": 82,
   "metadata": {},
   "outputs": [],
   "source": [
    "import psycopg2\n",
    "import pandas.io.sql as sqlio"
   ]
  },
  {
   "cell_type": "code",
   "execution_count": 83,
   "metadata": {},
   "outputs": [],
   "source": [
    "sql = '''\n",
    "    SELECT distinct\n",
    "        user_pseudo_id,\n",
    "        user_id,\n",
    "        event_name,\n",
    "        event_timestamp,\n",
    "        (select value.string_value from unnest(user_properties) where key = \"aiid\") as aiid,\n",
    "        (select value.int_value from unnest(event_params) where key = \"type\") as type\n",
    "    FROM `wuplo-client.analytics_272238589.events_*`, UNNEST(event_params) AS params\n",
    "    where (_TABLE_SUFFIX BETWEEN '20210901' and '20210927')\n",
    "    and platform in ('ANDROID', 'IOS')\n",
    "    and event_name = 'promocode_activated_event'\n",
    "    ;\n",
    "'''\n",
    "\n",
    "project_id = 'wuplo-client'\n",
    "\n",
    "promocode_users = client.query(sql, project=project_id).to_dataframe()"
   ]
  },
  {
   "cell_type": "code",
   "execution_count": 84,
   "metadata": {},
   "outputs": [],
   "source": [
    "promocode_users_groups1 = promocode_users[promocode_users['user_pseudo_id'].isin(users_add_to_basket)]"
   ]
  },
  {
   "cell_type": "code",
   "execution_count": 85,
   "metadata": {},
   "outputs": [],
   "source": [
    "CONN_GLOBAL = psycopg2.connect(dbname='wuplo_prod', user='sophiedata', \n",
    "                        password='DgYDq6WFr47#Etyuu@', host='db.wuplo.internal')"
   ]
  },
  {
   "cell_type": "code",
   "execution_count": 86,
   "metadata": {},
   "outputs": [],
   "source": [
    "conn = CONN_GLOBAL\n",
    "sql = '''\n",
    "    select\n",
    "        tdiscountactivations.id_user as user_id,\n",
    "        tdiscountactivations.id_discount,\n",
    "        tdiscounttypes.id as type_id,\n",
    "        tdiscounttypes.name as type_discount,\n",
    "        tdiscounts.value,\n",
    "        trequests.id as id_request,\n",
    "        trequests.productcost_amount,\n",
    "        trequests.status,\n",
    "        trequests.addstatus\n",
    "    from tdiscountactivations\n",
    "    left join trequests on trequests.id_discount = tdiscountactivations.id_discount\n",
    "        and trequests.id_creator = tdiscountactivations.id_user\n",
    "    left join tdiscounts on tdiscountactivations.id_discount = tdiscounts.id\n",
    "    left join tdiscounttypes on tdiscounts.id_type = tdiscounttypes.id\n",
    "    where tdiscountactivations.id_region = 2\n",
    "    ;\n",
    "'''\n",
    "df_db = sqlio.read_sql_query(sql, conn)\n",
    "conn = None"
   ]
  },
  {
   "cell_type": "code",
   "execution_count": 87,
   "metadata": {},
   "outputs": [
    {
     "data": {
      "text/html": [
       "<div>\n",
       "<style scoped>\n",
       "    .dataframe tbody tr th:only-of-type {\n",
       "        vertical-align: middle;\n",
       "    }\n",
       "\n",
       "    .dataframe tbody tr th {\n",
       "        vertical-align: top;\n",
       "    }\n",
       "\n",
       "    .dataframe thead th {\n",
       "        text-align: right;\n",
       "    }\n",
       "</style>\n",
       "<table border=\"1\" class=\"dataframe\">\n",
       "  <thead>\n",
       "    <tr style=\"text-align: right;\">\n",
       "      <th></th>\n",
       "      <th>user_id</th>\n",
       "      <th>id_discount</th>\n",
       "      <th>type_id</th>\n",
       "      <th>type_discount</th>\n",
       "      <th>value</th>\n",
       "      <th>id_request</th>\n",
       "      <th>productcost_amount</th>\n",
       "      <th>status</th>\n",
       "      <th>addstatus</th>\n",
       "    </tr>\n",
       "  </thead>\n",
       "  <tbody>\n",
       "    <tr>\n",
       "      <th>0</th>\n",
       "      <td>105453</td>\n",
       "      <td>143147</td>\n",
       "      <td>1</td>\n",
       "      <td>Скидка на корзину</td>\n",
       "      <td>0.1</td>\n",
       "      <td>178738.0</td>\n",
       "      <td>10.38</td>\n",
       "      <td>9.0</td>\n",
       "      <td>91.0</td>\n",
       "    </tr>\n",
       "    <tr>\n",
       "      <th>1</th>\n",
       "      <td>105453</td>\n",
       "      <td>143148</td>\n",
       "      <td>1</td>\n",
       "      <td>Скидка на корзину</td>\n",
       "      <td>0.1</td>\n",
       "      <td>178742.0</td>\n",
       "      <td>10.09</td>\n",
       "      <td>7.0</td>\n",
       "      <td>71.0</td>\n",
       "    </tr>\n",
       "    <tr>\n",
       "      <th>2</th>\n",
       "      <td>105458</td>\n",
       "      <td>143156</td>\n",
       "      <td>1</td>\n",
       "      <td>Скидка на корзину</td>\n",
       "      <td>0.1</td>\n",
       "      <td>178748.0</td>\n",
       "      <td>11.48</td>\n",
       "      <td>9.0</td>\n",
       "      <td>91.0</td>\n",
       "    </tr>\n",
       "    <tr>\n",
       "      <th>3</th>\n",
       "      <td>105458</td>\n",
       "      <td>143167</td>\n",
       "      <td>1</td>\n",
       "      <td>Скидка на корзину</td>\n",
       "      <td>0.1</td>\n",
       "      <td>178761.0</td>\n",
       "      <td>10.77</td>\n",
       "      <td>7.0</td>\n",
       "      <td>71.0</td>\n",
       "    </tr>\n",
       "    <tr>\n",
       "      <th>4</th>\n",
       "      <td>105458</td>\n",
       "      <td>143168</td>\n",
       "      <td>1</td>\n",
       "      <td>Скидка на корзину</td>\n",
       "      <td>0.1</td>\n",
       "      <td>178765.0</td>\n",
       "      <td>15.44</td>\n",
       "      <td>7.0</td>\n",
       "      <td>71.0</td>\n",
       "    </tr>\n",
       "  </tbody>\n",
       "</table>\n",
       "</div>"
      ],
      "text/plain": [
       "   user_id  id_discount  type_id      type_discount  value  id_request  \\\n",
       "0   105453       143147        1  Скидка на корзину    0.1    178738.0   \n",
       "1   105453       143148        1  Скидка на корзину    0.1    178742.0   \n",
       "2   105458       143156        1  Скидка на корзину    0.1    178748.0   \n",
       "3   105458       143167        1  Скидка на корзину    0.1    178761.0   \n",
       "4   105458       143168        1  Скидка на корзину    0.1    178765.0   \n",
       "\n",
       "   productcost_amount  status  addstatus  \n",
       "0               10.38     9.0       91.0  \n",
       "1               10.09     7.0       71.0  \n",
       "2               11.48     9.0       91.0  \n",
       "3               10.77     7.0       71.0  \n",
       "4               15.44     7.0       71.0  "
      ]
     },
     "execution_count": 87,
     "metadata": {},
     "output_type": "execute_result"
    }
   ],
   "source": [
    "df_db.head()"
   ]
  },
  {
   "cell_type": "code",
   "execution_count": 90,
   "metadata": {},
   "outputs": [
    {
     "name": "stderr",
     "output_type": "stream",
     "text": [
      "<ipython-input-90-1a0e31724ac8>:2: SettingWithCopyWarning: \n",
      "A value is trying to be set on a copy of a slice from a DataFrame.\n",
      "Try using .loc[row_indexer,col_indexer] = value instead\n",
      "\n",
      "See the caveats in the documentation: https://pandas.pydata.org/pandas-docs/stable/user_guide/indexing.html#returning-a-view-versus-a-copy\n",
      "  promocode_users_groups1['user_id'] = promocode_users_groups1['user_id'].astype(np.int64)\n"
     ]
    }
   ],
   "source": [
    "df_db['user_id'] = df_db['user_id'].astype(np.int64)\n",
    "promocode_users_groups1['user_id'] = promocode_users_groups1['user_id'].astype(np.int64)"
   ]
  },
  {
   "cell_type": "code",
   "execution_count": 91,
   "metadata": {},
   "outputs": [],
   "source": [
    "promocodes = pd.merge(promocode_users_groups1, df_db, how='left', on=[\"user_id\"])"
   ]
  },
  {
   "cell_type": "markdown",
   "metadata": {},
   "source": [
    "### Распределение пользователей по кол-ву активированных промокодов"
   ]
  },
  {
   "cell_type": "code",
   "execution_count": 92,
   "metadata": {},
   "outputs": [],
   "source": [
    "promocodes_count_activation = promocodes.groupby([\"user_id\"]).agg({\"id_discount\": \"count\"}).reset_index()"
   ]
  },
  {
   "cell_type": "code",
   "execution_count": 93,
   "metadata": {},
   "outputs": [
    {
     "data": {
      "text/plain": [
       "Text(0, 0.5, 'Users')"
      ]
     },
     "execution_count": 93,
     "metadata": {},
     "output_type": "execute_result"
    },
    {
     "data": {
      "image/png": "[encoded data removed]",
      "text/plain": [
       "<Figure size 432x288 with 1 Axes>"
      ]
     },
     "metadata": {
      "needs_background": "light"
     },
     "output_type": "display_data"
    }
   ],
   "source": [
    "import seaborn as sns\n",
    "import matplotlib.pyplot as plt\n",
    "\n",
    "sns.histplot(promocodes_count_activation[\"id_discount\"], color='red', bins=11)\n",
    "plt.title('Distribution Users By Count Activated Promocodes', fontsize=10)\n",
    "plt.xlabel('Count Promocodes', fontsize=8)\n",
    "plt.ylabel('Users', fontsize=8)"
   ]
  },
  {
   "cell_type": "markdown",
   "metadata": {},
   "source": [
    "### Доля пользователей, которые сделали заказ из активировавших промокод"
   ]
  },
  {
   "cell_type": "code",
   "execution_count": 136,
   "metadata": {},
   "outputs": [
    {
     "name": "stdout",
     "output_type": "stream",
     "text": [
      "Доля пользователей с заказами:  37.628865979381445\n",
      "Кол-во пользователей с заказами:  73\n"
     ]
    }
   ],
   "source": [
    "print(\"Доля пользователей с заказами: \", \n",
    "      len(promocodes[promocodes[\"id_request\"] > 0][\"user_id\"].unique()) / len(promocodes[\"user_id\"].unique()) * 100.0)\n",
    "print(\"Кол-во пользователей с заказами: \", len(promocodes[promocodes[\"id_request\"] > 0][\"user_id\"].unique()))"
   ]
  },
  {
   "cell_type": "markdown",
   "metadata": {},
   "source": [
    "### Распределение активаций по типу промокода"
   ]
  },
  {
   "cell_type": "code",
   "execution_count": 103,
   "metadata": {},
   "outputs": [],
   "source": [
    "promocodes_type_discount = promocodes.groupby([\"type_discount\"]).agg({\"user_id\": \"count\"}).reset_index()"
   ]
  },
  {
   "cell_type": "code",
   "execution_count": 123,
   "metadata": {},
   "outputs": [
    {
     "data": {
      "text/plain": [
       "Text(0, 0.5, 'Count Activation')"
      ]
     },
     "execution_count": 123,
     "metadata": {},
     "output_type": "execute_result"
    },
    {
     "data": {
      "image/png": "[encoded data removed]",
      "text/plain": [
       "<Figure size 432x288 with 1 Axes>"
      ]
     },
     "metadata": {
      "needs_background": "light"
     },
     "output_type": "display_data"
    }
   ],
   "source": [
    "import seaborn as sns\n",
    "import matplotlib.pyplot as plt\n",
    "\n",
    "sns.histplot(promocodes[\"type_discount\"], color='green', bins=1)\n",
    "plt.title('Distribution Users By Type Activated Promocodes', fontsize=10)\n",
    "plt.xlabel('Type Discount', fontsize=9)\n",
    "plt.xticks(rotation=50, size=8)\n",
    "plt.ylabel('Count Activation', fontsize=8)"
   ]
  },
  {
   "cell_type": "markdown",
   "metadata": {},
   "source": [
    "### Распределение активаций по сумме промокода"
   ]
  },
  {
   "cell_type": "code",
   "execution_count": 125,
   "metadata": {},
   "outputs": [],
   "source": [
    "promocodes_value_discount = promocodes.groupby([\"value\"]).agg({\"user_id\": \"count\"}).reset_index()"
   ]
  },
  {
   "cell_type": "code",
   "execution_count": 132,
   "metadata": {},
   "outputs": [
    {
     "data": {
      "text/plain": [
       "Text(0, 0.5, 'Count Activation')"
      ]
     },
     "execution_count": 132,
     "metadata": {},
     "output_type": "execute_result"
    },
    {
     "data": {
      "image/png": "[encoded data removed]",
      "text/plain": [
       "<Figure size 432x288 with 1 Axes>"
      ]
     },
     "metadata": {
      "needs_background": "light"
     },
     "output_type": "display_data"
    }
   ],
   "source": [
    "import seaborn as sns\n",
    "import matplotlib.pyplot as plt\n",
    "\n",
    "sns.histplot(promocodes[\"value\"], color='green', bins=10)\n",
    "plt.title('Distribution Users By Value Promocodes', fontsize=10)\n",
    "plt.xlabel('Value', fontsize=9)\n",
    "plt.xticks(rotation=0, size=8)\n",
    "plt.ylabel('Count Activation', fontsize=8)"
   ]
  },
  {
   "cell_type": "code",
   "execution_count": 128,
   "metadata": {},
   "outputs": [
    {
     "data": {
      "text/html": [
       "<div>\n",
       "<style scoped>\n",
       "    .dataframe tbody tr th:only-of-type {\n",
       "        vertical-align: middle;\n",
       "    }\n",
       "\n",
       "    .dataframe tbody tr th {\n",
       "        vertical-align: top;\n",
       "    }\n",
       "\n",
       "    .dataframe thead th {\n",
       "        text-align: right;\n",
       "    }\n",
       "</style>\n",
       "<table border=\"1\" class=\"dataframe\">\n",
       "  <thead>\n",
       "    <tr style=\"text-align: right;\">\n",
       "      <th></th>\n",
       "      <th>value</th>\n",
       "      <th>user_id</th>\n",
       "    </tr>\n",
       "  </thead>\n",
       "  <tbody>\n",
       "    <tr>\n",
       "      <th>0</th>\n",
       "      <td>0.10</td>\n",
       "      <td>6</td>\n",
       "    </tr>\n",
       "    <tr>\n",
       "      <th>1</th>\n",
       "      <td>0.20</td>\n",
       "      <td>22</td>\n",
       "    </tr>\n",
       "    <tr>\n",
       "      <th>2</th>\n",
       "      <td>2.42</td>\n",
       "      <td>1</td>\n",
       "    </tr>\n",
       "    <tr>\n",
       "      <th>3</th>\n",
       "      <td>5.00</td>\n",
       "      <td>213</td>\n",
       "    </tr>\n",
       "    <tr>\n",
       "      <th>4</th>\n",
       "      <td>6.00</td>\n",
       "      <td>1</td>\n",
       "    </tr>\n",
       "    <tr>\n",
       "      <th>5</th>\n",
       "      <td>10.00</td>\n",
       "      <td>8</td>\n",
       "    </tr>\n",
       "  </tbody>\n",
       "</table>\n",
       "</div>"
      ],
      "text/plain": [
       "   value  user_id\n",
       "0   0.10        6\n",
       "1   0.20       22\n",
       "2   2.42        1\n",
       "3   5.00      213\n",
       "4   6.00        1\n",
       "5  10.00        8"
      ]
     },
     "execution_count": 128,
     "metadata": {},
     "output_type": "execute_result"
    }
   ],
   "source": [
    "promocodes_value_discount"
   ]
  },
  {
   "cell_type": "markdown",
   "metadata": {},
   "source": [
    "### Выбираем только пользователей с заказами"
   ]
  },
  {
   "cell_type": "code",
   "execution_count": 137,
   "metadata": {},
   "outputs": [],
   "source": [
    "users_with_orders = promocodes[promocodes[\"id_request\"] > 0][\"user_id\"].unique()"
   ]
  },
  {
   "cell_type": "code",
   "execution_count": 138,
   "metadata": {},
   "outputs": [
    {
     "data": {
      "text/plain": [
       "array([106030, 106215, 105904, 106089, 106075, 105914, 106368, 106114,\n",
       "       106105, 105950, 106043, 106307, 106101, 106487, 106492, 106508,\n",
       "       106377, 106349, 106586, 106362, 106247, 106427, 106263, 106151,\n",
       "       106712, 106734, 105957, 105888, 105977, 106198, 106444, 106645,\n",
       "       106219, 106052, 106217, 106320, 106078, 105890, 106061, 106220,\n",
       "       106367, 106352, 106458, 106344, 106113, 106124, 105979, 105940,\n",
       "       106305, 106372, 106510, 106556, 106086, 106229, 106240, 106396,\n",
       "       106380, 106287, 106282, 106270, 106145, 106140, 106133, 106713,\n",
       "       106722, 106543, 105920, 106605, 106593, 106630, 106602, 106615,\n",
       "       106641])"
      ]
     },
     "execution_count": 138,
     "metadata": {},
     "output_type": "execute_result"
    }
   ],
   "source": [
    "users_with_orders"
   ]
  },
  {
   "cell_type": "code",
   "execution_count": 140,
   "metadata": {},
   "outputs": [],
   "source": [
    "promocodes_orders = promocodes[promocodes['user_id'].isin(users_with_orders)]"
   ]
  },
  {
   "cell_type": "markdown",
   "metadata": {},
   "source": [
    "### Распределения по типам и величине скидки промокода у таких пользователей"
   ]
  },
  {
   "cell_type": "code",
   "execution_count": 151,
   "metadata": {},
   "outputs": [],
   "source": [
    "promocodes_orders_ = promocodes_orders[promocodes_orders[\"id_request\"] > 0].reset_index()\n",
    "promocodes_orders_ = promocodes_orders_[(promocodes_orders_[\"status\"] == 9) & (promocodes_orders_[\"addstatus\"] == 91)]"
   ]
  },
  {
   "cell_type": "code",
   "execution_count": 158,
   "metadata": {},
   "outputs": [],
   "source": [
    "promocodes_orders_ = promocodes_orders_.groupby([\"user_id\", \"type_discount\", \"value\"]).agg({\"id_request\": \"count\"}).reset_index()"
   ]
  },
  {
   "cell_type": "code",
   "execution_count": 159,
   "metadata": {},
   "outputs": [
    {
     "data": {
      "text/html": [
       "<div>\n",
       "<style scoped>\n",
       "    .dataframe tbody tr th:only-of-type {\n",
       "        vertical-align: middle;\n",
       "    }\n",
       "\n",
       "    .dataframe tbody tr th {\n",
       "        vertical-align: top;\n",
       "    }\n",
       "\n",
       "    .dataframe thead th {\n",
       "        text-align: right;\n",
       "    }\n",
       "</style>\n",
       "<table border=\"1\" class=\"dataframe\">\n",
       "  <thead>\n",
       "    <tr style=\"text-align: right;\">\n",
       "      <th></th>\n",
       "      <th>user_id</th>\n",
       "      <th>type_discount</th>\n",
       "      <th>value</th>\n",
       "      <th>id_request</th>\n",
       "    </tr>\n",
       "  </thead>\n",
       "  <tbody>\n",
       "    <tr>\n",
       "      <th>1</th>\n",
       "      <td>105890</td>\n",
       "      <td>Денежная скидка на корзину</td>\n",
       "      <td>5.0</td>\n",
       "      <td>2</td>\n",
       "    </tr>\n",
       "    <tr>\n",
       "      <th>46</th>\n",
       "      <td>106368</td>\n",
       "      <td>Денежная скидка на корзину</td>\n",
       "      <td>5.0</td>\n",
       "      <td>2</td>\n",
       "    </tr>\n",
       "  </tbody>\n",
       "</table>\n",
       "</div>"
      ],
      "text/plain": [
       "    user_id               type_discount  value  id_request\n",
       "1    105890  Денежная скидка на корзину    5.0           2\n",
       "46   106368  Денежная скидка на корзину    5.0           2"
      ]
     },
     "execution_count": 159,
     "metadata": {},
     "output_type": "execute_result"
    }
   ],
   "source": [
    "promocodes_orders_[promocodes_orders_[\"id_request\"] > 1]"
   ]
  },
  {
   "cell_type": "code",
   "execution_count": 160,
   "metadata": {},
   "outputs": [],
   "source": [
    "promocodes_orders_type_discount = promocodes_orders_.groupby([\"type_discount\"]).agg({\"user_id\": \"count\"}).reset_index()"
   ]
  },
  {
   "cell_type": "code",
   "execution_count": 161,
   "metadata": {},
   "outputs": [
    {
     "data": {
      "text/html": [
       "<div>\n",
       "<style scoped>\n",
       "    .dataframe tbody tr th:only-of-type {\n",
       "        vertical-align: middle;\n",
       "    }\n",
       "\n",
       "    .dataframe tbody tr th {\n",
       "        vertical-align: top;\n",
       "    }\n",
       "\n",
       "    .dataframe thead th {\n",
       "        text-align: right;\n",
       "    }\n",
       "</style>\n",
       "<table border=\"1\" class=\"dataframe\">\n",
       "  <thead>\n",
       "    <tr style=\"text-align: right;\">\n",
       "      <th></th>\n",
       "      <th>type_discount</th>\n",
       "      <th>user_id</th>\n",
       "    </tr>\n",
       "  </thead>\n",
       "  <tbody>\n",
       "    <tr>\n",
       "      <th>0</th>\n",
       "      <td>Денежная скидка на корзину</td>\n",
       "      <td>55</td>\n",
       "    </tr>\n",
       "    <tr>\n",
       "      <th>1</th>\n",
       "      <td>Скидка на корзину</td>\n",
       "      <td>15</td>\n",
       "    </tr>\n",
       "  </tbody>\n",
       "</table>\n",
       "</div>"
      ],
      "text/plain": [
       "                type_discount  user_id\n",
       "0  Денежная скидка на корзину       55\n",
       "1           Скидка на корзину       15"
      ]
     },
     "execution_count": 161,
     "metadata": {},
     "output_type": "execute_result"
    }
   ],
   "source": [
    "promocodes_orders_type_discount"
   ]
  },
  {
   "cell_type": "code",
   "execution_count": 162,
   "metadata": {},
   "outputs": [],
   "source": [
    "promocodes_orders_value_discount = promocodes_orders_.groupby([\"value\"]).agg({\"user_id\": \"count\"}).reset_index()"
   ]
  },
  {
   "cell_type": "code",
   "execution_count": 163,
   "metadata": {},
   "outputs": [
    {
     "data": {
      "text/html": [
       "<div>\n",
       "<style scoped>\n",
       "    .dataframe tbody tr th:only-of-type {\n",
       "        vertical-align: middle;\n",
       "    }\n",
       "\n",
       "    .dataframe tbody tr th {\n",
       "        vertical-align: top;\n",
       "    }\n",
       "\n",
       "    .dataframe thead th {\n",
       "        text-align: right;\n",
       "    }\n",
       "</style>\n",
       "<table border=\"1\" class=\"dataframe\">\n",
       "  <thead>\n",
       "    <tr style=\"text-align: right;\">\n",
       "      <th></th>\n",
       "      <th>value</th>\n",
       "      <th>user_id</th>\n",
       "    </tr>\n",
       "  </thead>\n",
       "  <tbody>\n",
       "    <tr>\n",
       "      <th>0</th>\n",
       "      <td>0.1</td>\n",
       "      <td>2</td>\n",
       "    </tr>\n",
       "    <tr>\n",
       "      <th>1</th>\n",
       "      <td>0.2</td>\n",
       "      <td>13</td>\n",
       "    </tr>\n",
       "    <tr>\n",
       "      <th>2</th>\n",
       "      <td>5.0</td>\n",
       "      <td>51</td>\n",
       "    </tr>\n",
       "    <tr>\n",
       "      <th>3</th>\n",
       "      <td>10.0</td>\n",
       "      <td>4</td>\n",
       "    </tr>\n",
       "  </tbody>\n",
       "</table>\n",
       "</div>"
      ],
      "text/plain": [
       "   value  user_id\n",
       "0    0.1        2\n",
       "1    0.2       13\n",
       "2    5.0       51\n",
       "3   10.0        4"
      ]
     },
     "execution_count": 163,
     "metadata": {},
     "output_type": "execute_result"
    }
   ],
   "source": [
    "promocodes_orders_value_discount"
   ]
  },
  {
   "cell_type": "markdown",
   "metadata": {},
   "source": [
    "### Откуда чаще кладут товары: карточка товара или каталог?"
   ]
  },
  {
   "cell_type": "code",
   "execution_count": 259,
   "metadata": {},
   "outputs": [],
   "source": [
    "sql = '''\n",
    "    SELECT distinct\n",
    "        user_pseudo_id,\n",
    "        event_name,\n",
    "        event_timestamp,\n",
    "        (select value.string_value from unnest(event_params) where key = \"source\") as source\n",
    "    FROM `wuplo-client.analytics_272238589.events_*`, UNNEST(event_params) AS params\n",
    "    where (_TABLE_SUFFIX BETWEEN '20210901' and '20210927')\n",
    "    and platform in ('ANDROID', 'IOS')\n",
    "    and event_name = 'add_to_cart_event'\n",
    "    ;\n",
    "'''\n",
    "\n",
    "project_id = 'wuplo-client'\n",
    "\n",
    "add_to_cart_source = client.query(sql, project=project_id).to_dataframe()"
   ]
  },
  {
   "cell_type": "code",
   "execution_count": 243,
   "metadata": {},
   "outputs": [],
   "source": [
    "add_to_cart_source = add_to_cart_source[add_to_cart_source['user_pseudo_id'].isin(users_add_to_basket)]"
   ]
  },
  {
   "cell_type": "code",
   "execution_count": 236,
   "metadata": {},
   "outputs": [],
   "source": [
    "add_to_cart_source_df = add_to_cart_source.groupby([\"source\"]).agg({\"user_pseudo_id\": \"count\"}).reset_index()"
   ]
  },
  {
   "cell_type": "code",
   "execution_count": 237,
   "metadata": {},
   "outputs": [],
   "source": [
    "add_to_cart_source_df[\"share_users\"] = add_to_cart_source_df[\"user_pseudo_id\"] / add_to_cart_source_df[\"user_pseudo_id\"].sum() * 100.0\n",
    "\n"
   ]
  },
  {
   "cell_type": "code",
   "execution_count": 238,
   "metadata": {},
   "outputs": [
    {
     "data": {
      "text/html": [
       "<div>\n",
       "<style scoped>\n",
       "    .dataframe tbody tr th:only-of-type {\n",
       "        vertical-align: middle;\n",
       "    }\n",
       "\n",
       "    .dataframe tbody tr th {\n",
       "        vertical-align: top;\n",
       "    }\n",
       "\n",
       "    .dataframe thead th {\n",
       "        text-align: right;\n",
       "    }\n",
       "</style>\n",
       "<table border=\"1\" class=\"dataframe\">\n",
       "  <thead>\n",
       "    <tr style=\"text-align: right;\">\n",
       "      <th></th>\n",
       "      <th>source</th>\n",
       "      <th>user_pseudo_id</th>\n",
       "      <th>share_users</th>\n",
       "    </tr>\n",
       "  </thead>\n",
       "  <tbody>\n",
       "    <tr>\n",
       "      <th>0</th>\n",
       "      <td>banner</td>\n",
       "      <td>5</td>\n",
       "      <td>0.045994</td>\n",
       "    </tr>\n",
       "    <tr>\n",
       "      <th>1</th>\n",
       "      <td>cart</td>\n",
       "      <td>320</td>\n",
       "      <td>2.943611</td>\n",
       "    </tr>\n",
       "    <tr>\n",
       "      <th>2</th>\n",
       "      <td>cart/detail</td>\n",
       "      <td>9</td>\n",
       "      <td>0.082789</td>\n",
       "    </tr>\n",
       "    <tr>\n",
       "      <th>3</th>\n",
       "      <td>catalog</td>\n",
       "      <td>8165</td>\n",
       "      <td>75.108086</td>\n",
       "    </tr>\n",
       "    <tr>\n",
       "      <th>4</th>\n",
       "      <td>catalog/detail</td>\n",
       "      <td>958</td>\n",
       "      <td>8.812437</td>\n",
       "    </tr>\n",
       "    <tr>\n",
       "      <th>5</th>\n",
       "      <td>favorites</td>\n",
       "      <td>197</td>\n",
       "      <td>1.812161</td>\n",
       "    </tr>\n",
       "    <tr>\n",
       "      <th>6</th>\n",
       "      <td>favorites/detail</td>\n",
       "      <td>2</td>\n",
       "      <td>0.018398</td>\n",
       "    </tr>\n",
       "    <tr>\n",
       "      <th>7</th>\n",
       "      <td>recommend</td>\n",
       "      <td>198</td>\n",
       "      <td>1.821360</td>\n",
       "    </tr>\n",
       "    <tr>\n",
       "      <th>8</th>\n",
       "      <td>recommend/detail</td>\n",
       "      <td>19</td>\n",
       "      <td>0.174777</td>\n",
       "    </tr>\n",
       "    <tr>\n",
       "      <th>9</th>\n",
       "      <td>search/keyboard</td>\n",
       "      <td>808</td>\n",
       "      <td>7.432619</td>\n",
       "    </tr>\n",
       "    <tr>\n",
       "      <th>10</th>\n",
       "      <td>search/keyboard/detail</td>\n",
       "      <td>190</td>\n",
       "      <td>1.747769</td>\n",
       "    </tr>\n",
       "  </tbody>\n",
       "</table>\n",
       "</div>"
      ],
      "text/plain": [
       "                    source  user_pseudo_id  share_users\n",
       "0                   banner               5     0.045994\n",
       "1                     cart             320     2.943611\n",
       "2              cart/detail               9     0.082789\n",
       "3                  catalog            8165    75.108086\n",
       "4           catalog/detail             958     8.812437\n",
       "5                favorites             197     1.812161\n",
       "6         favorites/detail               2     0.018398\n",
       "7                recommend             198     1.821360\n",
       "8         recommend/detail              19     0.174777\n",
       "9          search/keyboard             808     7.432619\n",
       "10  search/keyboard/detail             190     1.747769"
      ]
     },
     "execution_count": 238,
     "metadata": {},
     "output_type": "execute_result"
    }
   ],
   "source": [
    "add_to_cart_source_df"
   ]
  },
  {
   "cell_type": "code",
   "execution_count": 254,
   "metadata": {},
   "outputs": [],
   "source": [
    "add_to_cart_source = add_to_cart_source[add_to_cart_source['user_pseudo_id'].isin(users_with_orders2)]"
   ]
  },
  {
   "cell_type": "code",
   "execution_count": 255,
   "metadata": {},
   "outputs": [
    {
     "data": {
      "text/html": [
       "<div>\n",
       "<style scoped>\n",
       "    .dataframe tbody tr th:only-of-type {\n",
       "        vertical-align: middle;\n",
       "    }\n",
       "\n",
       "    .dataframe tbody tr th {\n",
       "        vertical-align: top;\n",
       "    }\n",
       "\n",
       "    .dataframe thead th {\n",
       "        text-align: right;\n",
       "    }\n",
       "</style>\n",
       "<table border=\"1\" class=\"dataframe\">\n",
       "  <thead>\n",
       "    <tr style=\"text-align: right;\">\n",
       "      <th></th>\n",
       "      <th>user_pseudo_id</th>\n",
       "      <th>event_name</th>\n",
       "      <th>event_timestamp</th>\n",
       "      <th>source</th>\n",
       "    </tr>\n",
       "  </thead>\n",
       "  <tbody>\n",
       "    <tr>\n",
       "      <th>18</th>\n",
       "      <td>33FB2E396C2B45C2B14F6A54259B450F</td>\n",
       "      <td>add_to_cart_event</td>\n",
       "      <td>1631404523851024</td>\n",
       "      <td>catalog</td>\n",
       "    </tr>\n",
       "    <tr>\n",
       "      <th>19</th>\n",
       "      <td>33FB2E396C2B45C2B14F6A54259B450F</td>\n",
       "      <td>add_to_cart_event</td>\n",
       "      <td>1631404537981000</td>\n",
       "      <td>catalog</td>\n",
       "    </tr>\n",
       "    <tr>\n",
       "      <th>26</th>\n",
       "      <td>75DB5E2377EF457AA5C5609B11995A0B</td>\n",
       "      <td>add_to_cart_event</td>\n",
       "      <td>1631471217910011</td>\n",
       "      <td>catalog/detail</td>\n",
       "    </tr>\n",
       "    <tr>\n",
       "      <th>27</th>\n",
       "      <td>75DB5E2377EF457AA5C5609B11995A0B</td>\n",
       "      <td>add_to_cart_event</td>\n",
       "      <td>1631471407758033</td>\n",
       "      <td>catalog</td>\n",
       "    </tr>\n",
       "    <tr>\n",
       "      <th>28</th>\n",
       "      <td>75DB5E2377EF457AA5C5609B11995A0B</td>\n",
       "      <td>add_to_cart_event</td>\n",
       "      <td>1631471443086027</td>\n",
       "      <td>catalog</td>\n",
       "    </tr>\n",
       "  </tbody>\n",
       "</table>\n",
       "</div>"
      ],
      "text/plain": [
       "                      user_pseudo_id         event_name   event_timestamp  \\\n",
       "18  33FB2E396C2B45C2B14F6A54259B450F  add_to_cart_event  1631404523851024   \n",
       "19  33FB2E396C2B45C2B14F6A54259B450F  add_to_cart_event  1631404537981000   \n",
       "26  75DB5E2377EF457AA5C5609B11995A0B  add_to_cart_event  1631471217910011   \n",
       "27  75DB5E2377EF457AA5C5609B11995A0B  add_to_cart_event  1631471407758033   \n",
       "28  75DB5E2377EF457AA5C5609B11995A0B  add_to_cart_event  1631471443086027   \n",
       "\n",
       "            source  \n",
       "18         catalog  \n",
       "19         catalog  \n",
       "26  catalog/detail  \n",
       "27         catalog  \n",
       "28         catalog  "
      ]
     },
     "execution_count": 255,
     "metadata": {},
     "output_type": "execute_result"
    }
   ],
   "source": [
    "add_to_cart_source.head()"
   ]
  },
  {
   "cell_type": "code",
   "execution_count": 228,
   "metadata": {},
   "outputs": [],
   "source": [
    "add_to_cart_source_df_order = add_to_cart_source.groupby([\"source\"]).agg({\"user_pseudo_id\": \"count\"}).reset_index()"
   ]
  },
  {
   "cell_type": "code",
   "execution_count": 230,
   "metadata": {},
   "outputs": [],
   "source": [
    "add_to_cart_source_df_order[\"share_users\"] = add_to_cart_source_df_order[\"user_pseudo_id\"] / add_to_cart_source_df_order[\"user_pseudo_id\"].sum() * 100.0\n",
    "\n"
   ]
  },
  {
   "cell_type": "code",
   "execution_count": 231,
   "metadata": {},
   "outputs": [
    {
     "data": {
      "text/html": [
       "<div>\n",
       "<style scoped>\n",
       "    .dataframe tbody tr th:only-of-type {\n",
       "        vertical-align: middle;\n",
       "    }\n",
       "\n",
       "    .dataframe tbody tr th {\n",
       "        vertical-align: top;\n",
       "    }\n",
       "\n",
       "    .dataframe thead th {\n",
       "        text-align: right;\n",
       "    }\n",
       "</style>\n",
       "<table border=\"1\" class=\"dataframe\">\n",
       "  <thead>\n",
       "    <tr style=\"text-align: right;\">\n",
       "      <th></th>\n",
       "      <th>source</th>\n",
       "      <th>user_pseudo_id</th>\n",
       "      <th>share_users</th>\n",
       "    </tr>\n",
       "  </thead>\n",
       "  <tbody>\n",
       "    <tr>\n",
       "      <th>0</th>\n",
       "      <td>banner</td>\n",
       "      <td>5</td>\n",
       "      <td>0.090269</td>\n",
       "    </tr>\n",
       "    <tr>\n",
       "      <th>1</th>\n",
       "      <td>cart</td>\n",
       "      <td>138</td>\n",
       "      <td>2.491424</td>\n",
       "    </tr>\n",
       "    <tr>\n",
       "      <th>2</th>\n",
       "      <td>cart/detail</td>\n",
       "      <td>3</td>\n",
       "      <td>0.054161</td>\n",
       "    </tr>\n",
       "    <tr>\n",
       "      <th>3</th>\n",
       "      <td>catalog</td>\n",
       "      <td>4156</td>\n",
       "      <td>75.031594</td>\n",
       "    </tr>\n",
       "    <tr>\n",
       "      <th>4</th>\n",
       "      <td>catalog/detail</td>\n",
       "      <td>407</td>\n",
       "      <td>7.347897</td>\n",
       "    </tr>\n",
       "  </tbody>\n",
       "</table>\n",
       "</div>"
      ],
      "text/plain": [
       "           source  user_pseudo_id  share_users\n",
       "0          banner               5     0.090269\n",
       "1            cart             138     2.491424\n",
       "2     cart/detail               3     0.054161\n",
       "3         catalog            4156    75.031594\n",
       "4  catalog/detail             407     7.347897"
      ]
     },
     "execution_count": 231,
     "metadata": {},
     "output_type": "execute_result"
    }
   ],
   "source": [
    "add_to_cart_source_df_order.head()"
   ]
  },
  {
   "cell_type": "code",
   "execution_count": 264,
   "metadata": {},
   "outputs": [],
   "source": [
    "sql = '''\n",
    "    SELECT distinct\n",
    "        user_pseudo_id,\n",
    "        event_name,\n",
    "        event_timestamp,\n",
    "        (select value.string_value from unnest(event_params) where key = \"source\") as source\n",
    "    FROM `wuplo-client.analytics_272238589.events_*`, UNNEST(event_params) AS params\n",
    "    where (_TABLE_SUFFIX BETWEEN '20210901' and '20210927')\n",
    "    and platform in ('ANDROID', 'IOS')\n",
    "    and event_name = 'add_to_cart_event'\n",
    "    and user_pseudo_id in\n",
    "    (\n",
    "        SELECT distinct\n",
    "            user_pseudo_id\n",
    "        FROM `wuplo-client.analytics_272238589.events_*`, UNNEST(event_params) AS params\n",
    "        where (_TABLE_SUFFIX BETWEEN '20210901' and '20210927')\n",
    "        and platform in ('ANDROID', 'IOS')\n",
    "        and event_name = 'order_send_success_event'\n",
    "        and user_pseudo_id in\n",
    "        (\n",
    "            with step_2 as (\n",
    "                SELECT distinct\n",
    "                    user_pseudo_id as user_pseudo_id_2,\n",
    "                    'address_input_screen' as event\n",
    "                FROM `wuplo-client.analytics_272238589.events_*`, UNNEST(event_params) AS params\n",
    "                where event_name in (\"wup_address_input_screen\")\n",
    "                and (_TABLE_SUFFIX BETWEEN '20210901' and '20210927')\n",
    "                and platform in ('ANDROID', 'IOS')\n",
    "                and user_pseudo_id in \n",
    "                (\n",
    "                    SELECT distinct\n",
    "                        user_pseudo_id\n",
    "                    FROM `wuplo-client.analytics_272238589.events_*`, UNNEST(event_params) AS params\n",
    "                    where event_name = \"wup_first_open_event\"\n",
    "                    and (_TABLE_SUFFIX BETWEEN '20210901' and '20210927')\n",
    "                    and platform in ('ANDROID', 'IOS')\n",
    "                )\n",
    "            ),\n",
    "\n",
    "            step_3 as (\n",
    "                SELECT distinct\n",
    "                    user_pseudo_id as user_pseudo_id_3,\n",
    "                    'input_address' as event\n",
    "                FROM `wuplo-client.analytics_272238589.events_*`, UNNEST(event_params) AS params\n",
    "                where event_name in (\"wup_input_address\")\n",
    "                and (_TABLE_SUFFIX BETWEEN '20210901' and '20210927')\n",
    "                and platform in ('ANDROID', 'IOS')\n",
    "                and params.key = \"id_delivery_zone\" and params.value.int_value in (15, 30, 60)\n",
    "            ),\n",
    "\n",
    "            step_5 as (\n",
    "                SELECT distinct\n",
    "                    user_pseudo_id as user_pseudo_id_5,\n",
    "                    'wup_view_item_screen' as event\n",
    "                FROM `wuplo-client.analytics_272238589.events_*`, UNNEST(event_params) AS params\n",
    "                where event_name = \"wup_view_item_screen\"\n",
    "                and (_TABLE_SUFFIX BETWEEN '20210901' and '20210927')\n",
    "                and platform in ('ANDROID', 'IOS')\n",
    "            ),\n",
    "\n",
    "            step_6 as (\n",
    "                SELECT distinct\n",
    "                    user_pseudo_id as user_pseudo_id_6,\n",
    "                    'add_to_cart_event' as event\n",
    "                FROM `wuplo-client.analytics_272238589.events_*`, UNNEST(event_params) AS params\n",
    "                where event_name = \"add_to_cart_event\"\n",
    "                and (_TABLE_SUFFIX BETWEEN '20210901' and '20210927')\n",
    "                and platform in ('ANDROID', 'IOS')\n",
    "            )\n",
    "\n",
    "            select distinct\n",
    "                step_5.user_pseudo_id_5\n",
    "            from step_2\n",
    "            left join step_3 on step_3.user_pseudo_id_3 = step_2.user_pseudo_id_2\n",
    "            left join step_5 on step_5.user_pseudo_id_5 = step_3.user_pseudo_id_3\n",
    "            left join step_6 on step_5.user_pseudo_id_5 = step_6.user_pseudo_id_6\n",
    "            where step_6.event is not null\n",
    "        )\n",
    "    )\n",
    "    ;\n",
    "'''\n",
    "\n",
    "project_id = 'wuplo-client'\n",
    "\n",
    "add_to_cart_source = client.query(sql, project=project_id).to_dataframe()"
   ]
  },
  {
   "cell_type": "code",
   "execution_count": 265,
   "metadata": {},
   "outputs": [
    {
     "data": {
      "text/html": [
       "<div>\n",
       "<style scoped>\n",
       "    .dataframe tbody tr th:only-of-type {\n",
       "        vertical-align: middle;\n",
       "    }\n",
       "\n",
       "    .dataframe tbody tr th {\n",
       "        vertical-align: top;\n",
       "    }\n",
       "\n",
       "    .dataframe thead th {\n",
       "        text-align: right;\n",
       "    }\n",
       "</style>\n",
       "<table border=\"1\" class=\"dataframe\">\n",
       "  <thead>\n",
       "    <tr style=\"text-align: right;\">\n",
       "      <th></th>\n",
       "      <th>user_pseudo_id</th>\n",
       "      <th>event_name</th>\n",
       "      <th>event_timestamp</th>\n",
       "      <th>source</th>\n",
       "    </tr>\n",
       "  </thead>\n",
       "  <tbody>\n",
       "    <tr>\n",
       "      <th>0</th>\n",
       "      <td>1AF3E07DD0B04170A4C094A91D5F6492</td>\n",
       "      <td>add_to_cart_event</td>\n",
       "      <td>1631207641444024</td>\n",
       "      <td>catalog</td>\n",
       "    </tr>\n",
       "    <tr>\n",
       "      <th>1</th>\n",
       "      <td>1AF3E07DD0B04170A4C094A91D5F6492</td>\n",
       "      <td>add_to_cart_event</td>\n",
       "      <td>1631207866007101</td>\n",
       "      <td>catalog/detail</td>\n",
       "    </tr>\n",
       "    <tr>\n",
       "      <th>2</th>\n",
       "      <td>1AF3E07DD0B04170A4C094A91D5F6492</td>\n",
       "      <td>add_to_cart_event</td>\n",
       "      <td>1631207978365193</td>\n",
       "      <td>search/keyboard</td>\n",
       "    </tr>\n",
       "    <tr>\n",
       "      <th>3</th>\n",
       "      <td>1AF3E07DD0B04170A4C094A91D5F6492</td>\n",
       "      <td>add_to_cart_event</td>\n",
       "      <td>1631208295645142</td>\n",
       "      <td>catalog</td>\n",
       "    </tr>\n",
       "    <tr>\n",
       "      <th>4</th>\n",
       "      <td>1AF3E07DD0B04170A4C094A91D5F6492</td>\n",
       "      <td>add_to_cart_event</td>\n",
       "      <td>1631208375478043</td>\n",
       "      <td>catalog</td>\n",
       "    </tr>\n",
       "    <tr>\n",
       "      <th>...</th>\n",
       "      <td>...</td>\n",
       "      <td>...</td>\n",
       "      <td>...</td>\n",
       "      <td>...</td>\n",
       "    </tr>\n",
       "    <tr>\n",
       "      <th>5534</th>\n",
       "      <td>f2a72cf2b4d8a808137dfa0021e7e44c</td>\n",
       "      <td>add_to_cart_event</td>\n",
       "      <td>1632565448862000</td>\n",
       "      <td>catalog</td>\n",
       "    </tr>\n",
       "    <tr>\n",
       "      <th>5535</th>\n",
       "      <td>f2a72cf2b4d8a808137dfa0021e7e44c</td>\n",
       "      <td>add_to_cart_event</td>\n",
       "      <td>1632565449800000</td>\n",
       "      <td>catalog</td>\n",
       "    </tr>\n",
       "    <tr>\n",
       "      <th>5536</th>\n",
       "      <td>cf86fd179297d02a4a0828e8b516ba0c</td>\n",
       "      <td>add_to_cart_event</td>\n",
       "      <td>1632550395820000</td>\n",
       "      <td>catalog</td>\n",
       "    </tr>\n",
       "    <tr>\n",
       "      <th>5537</th>\n",
       "      <td>8d96c01c9c1e829a29849d5274a6e7de</td>\n",
       "      <td>add_to_cart_event</td>\n",
       "      <td>1632595052118000</td>\n",
       "      <td>catalog</td>\n",
       "    </tr>\n",
       "    <tr>\n",
       "      <th>5538</th>\n",
       "      <td>13f018b1bf55e5b76ea17f252012c06e</td>\n",
       "      <td>add_to_cart_event</td>\n",
       "      <td>1632560427689000</td>\n",
       "      <td>catalog</td>\n",
       "    </tr>\n",
       "  </tbody>\n",
       "</table>\n",
       "<p>5539 rows × 4 columns</p>\n",
       "</div>"
      ],
      "text/plain": [
       "                        user_pseudo_id         event_name   event_timestamp  \\\n",
       "0     1AF3E07DD0B04170A4C094A91D5F6492  add_to_cart_event  1631207641444024   \n",
       "1     1AF3E07DD0B04170A4C094A91D5F6492  add_to_cart_event  1631207866007101   \n",
       "2     1AF3E07DD0B04170A4C094A91D5F6492  add_to_cart_event  1631207978365193   \n",
       "3     1AF3E07DD0B04170A4C094A91D5F6492  add_to_cart_event  1631208295645142   \n",
       "4     1AF3E07DD0B04170A4C094A91D5F6492  add_to_cart_event  1631208375478043   \n",
       "...                                ...                ...               ...   \n",
       "5534  f2a72cf2b4d8a808137dfa0021e7e44c  add_to_cart_event  1632565448862000   \n",
       "5535  f2a72cf2b4d8a808137dfa0021e7e44c  add_to_cart_event  1632565449800000   \n",
       "5536  cf86fd179297d02a4a0828e8b516ba0c  add_to_cart_event  1632550395820000   \n",
       "5537  8d96c01c9c1e829a29849d5274a6e7de  add_to_cart_event  1632595052118000   \n",
       "5538  13f018b1bf55e5b76ea17f252012c06e  add_to_cart_event  1632560427689000   \n",
       "\n",
       "               source  \n",
       "0             catalog  \n",
       "1      catalog/detail  \n",
       "2     search/keyboard  \n",
       "3             catalog  \n",
       "4             catalog  \n",
       "...               ...  \n",
       "5534          catalog  \n",
       "5535          catalog  \n",
       "5536          catalog  \n",
       "5537          catalog  \n",
       "5538          catalog  \n",
       "\n",
       "[5539 rows x 4 columns]"
      ]
     },
     "execution_count": 265,
     "metadata": {},
     "output_type": "execute_result"
    }
   ],
   "source": [
    "add_to_cart_source"
   ]
  },
  {
   "cell_type": "code",
   "execution_count": 266,
   "metadata": {},
   "outputs": [],
   "source": [
    "add_to_cart_source_df_order = add_to_cart_source.groupby([\"source\"]).agg({\"user_pseudo_id\": \"count\"}).reset_index()"
   ]
  },
  {
   "cell_type": "code",
   "execution_count": 267,
   "metadata": {},
   "outputs": [
    {
     "data": {
      "text/html": [
       "<div>\n",
       "<style scoped>\n",
       "    .dataframe tbody tr th:only-of-type {\n",
       "        vertical-align: middle;\n",
       "    }\n",
       "\n",
       "    .dataframe tbody tr th {\n",
       "        vertical-align: top;\n",
       "    }\n",
       "\n",
       "    .dataframe thead th {\n",
       "        text-align: right;\n",
       "    }\n",
       "</style>\n",
       "<table border=\"1\" class=\"dataframe\">\n",
       "  <thead>\n",
       "    <tr style=\"text-align: right;\">\n",
       "      <th></th>\n",
       "      <th>source</th>\n",
       "      <th>user_pseudo_id</th>\n",
       "    </tr>\n",
       "  </thead>\n",
       "  <tbody>\n",
       "    <tr>\n",
       "      <th>0</th>\n",
       "      <td>banner</td>\n",
       "      <td>5</td>\n",
       "    </tr>\n",
       "    <tr>\n",
       "      <th>1</th>\n",
       "      <td>cart</td>\n",
       "      <td>138</td>\n",
       "    </tr>\n",
       "    <tr>\n",
       "      <th>2</th>\n",
       "      <td>cart/detail</td>\n",
       "      <td>3</td>\n",
       "    </tr>\n",
       "    <tr>\n",
       "      <th>3</th>\n",
       "      <td>catalog</td>\n",
       "      <td>4156</td>\n",
       "    </tr>\n",
       "    <tr>\n",
       "      <th>4</th>\n",
       "      <td>catalog/detail</td>\n",
       "      <td>407</td>\n",
       "    </tr>\n",
       "    <tr>\n",
       "      <th>5</th>\n",
       "      <td>favorites</td>\n",
       "      <td>161</td>\n",
       "    </tr>\n",
       "    <tr>\n",
       "      <th>6</th>\n",
       "      <td>favorites/detail</td>\n",
       "      <td>1</td>\n",
       "    </tr>\n",
       "    <tr>\n",
       "      <th>7</th>\n",
       "      <td>recommend</td>\n",
       "      <td>77</td>\n",
       "    </tr>\n",
       "    <tr>\n",
       "      <th>8</th>\n",
       "      <td>recommend/detail</td>\n",
       "      <td>14</td>\n",
       "    </tr>\n",
       "    <tr>\n",
       "      <th>9</th>\n",
       "      <td>search/keyboard</td>\n",
       "      <td>467</td>\n",
       "    </tr>\n",
       "    <tr>\n",
       "      <th>10</th>\n",
       "      <td>search/keyboard/detail</td>\n",
       "      <td>110</td>\n",
       "    </tr>\n",
       "  </tbody>\n",
       "</table>\n",
       "</div>"
      ],
      "text/plain": [
       "                    source  user_pseudo_id\n",
       "0                   banner               5\n",
       "1                     cart             138\n",
       "2              cart/detail               3\n",
       "3                  catalog            4156\n",
       "4           catalog/detail             407\n",
       "5                favorites             161\n",
       "6         favorites/detail               1\n",
       "7                recommend              77\n",
       "8         recommend/detail              14\n",
       "9          search/keyboard             467\n",
       "10  search/keyboard/detail             110"
      ]
     },
     "execution_count": 267,
     "metadata": {},
     "output_type": "execute_result"
    }
   ],
   "source": [
    "add_to_cart_source_df_order"
   ]
  },
  {
   "cell_type": "code",
   "execution_count": 262,
   "metadata": {},
   "outputs": [],
   "source": [
    "add_to_cart_source_df_order[\"share_users\"] = add_to_cart_source_df_order[\"user_pseudo_id\"] / add_to_cart_source_df_order[\"user_pseudo_id\"].sum() * 100.0\n"
   ]
  },
  {
   "cell_type": "code",
   "execution_count": 263,
   "metadata": {},
   "outputs": [
    {
     "data": {
      "text/html": [
       "<div>\n",
       "<style scoped>\n",
       "    .dataframe tbody tr th:only-of-type {\n",
       "        vertical-align: middle;\n",
       "    }\n",
       "\n",
       "    .dataframe tbody tr th {\n",
       "        vertical-align: top;\n",
       "    }\n",
       "\n",
       "    .dataframe thead th {\n",
       "        text-align: right;\n",
       "    }\n",
       "</style>\n",
       "<table border=\"1\" class=\"dataframe\">\n",
       "  <thead>\n",
       "    <tr style=\"text-align: right;\">\n",
       "      <th></th>\n",
       "      <th>source</th>\n",
       "      <th>user_pseudo_id</th>\n",
       "      <th>share_users</th>\n",
       "    </tr>\n",
       "  </thead>\n",
       "  <tbody>\n",
       "    <tr>\n",
       "      <th>0</th>\n",
       "      <td>banner</td>\n",
       "      <td>5</td>\n",
       "      <td>0.035623</td>\n",
       "    </tr>\n",
       "    <tr>\n",
       "      <th>1</th>\n",
       "      <td>cart</td>\n",
       "      <td>434</td>\n",
       "      <td>3.092049</td>\n",
       "    </tr>\n",
       "    <tr>\n",
       "      <th>2</th>\n",
       "      <td>cart/detail</td>\n",
       "      <td>13</td>\n",
       "      <td>0.092619</td>\n",
       "    </tr>\n",
       "    <tr>\n",
       "      <th>3</th>\n",
       "      <td>catalog</td>\n",
       "      <td>10575</td>\n",
       "      <td>75.341978</td>\n",
       "    </tr>\n",
       "    <tr>\n",
       "      <th>4</th>\n",
       "      <td>catalog/detail</td>\n",
       "      <td>1184</td>\n",
       "      <td>8.435452</td>\n",
       "    </tr>\n",
       "  </tbody>\n",
       "</table>\n",
       "</div>"
      ],
      "text/plain": [
       "           source  user_pseudo_id  share_users\n",
       "0          banner               5     0.035623\n",
       "1            cart             434     3.092049\n",
       "2     cart/detail              13     0.092619\n",
       "3         catalog           10575    75.341978\n",
       "4  catalog/detail            1184     8.435452"
      ]
     },
     "execution_count": 263,
     "metadata": {},
     "output_type": "execute_result"
    }
   ],
   "source": [
    "add_to_cart_source_df_order.head()"
   ]
  },
  {
   "cell_type": "code",
   "execution_count": null,
   "metadata": {},
   "outputs": [],
   "source": []
  }
 ],
 "metadata": {
  "kernelspec": {
   "display_name": "Python 3",
   "language": "python",
   "name": "python3"
  },
  "language_info": {
   "codemirror_mode": {
    "name": "ipython",
    "version": 3
   },
   "file_extension": ".py",
   "mimetype": "text/x-python",
   "name": "python",
   "nbconvert_exporter": "python",
   "pygments_lexer": "ipython3",
   "version": "3.8.5"
  }
 },
 "nbformat": 4,
 "nbformat_minor": 4
}
